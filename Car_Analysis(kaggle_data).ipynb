{
 "cells": [
  {
   "cell_type": "code",
   "execution_count": null,
   "metadata": {
    "id": "V6r8rI0JfpG0"
   },
   "outputs": [],
   "source": [
    "#Problem is to analyse whether a car is in good condition or not"
   ]
  },
  {
   "cell_type": "code",
   "execution_count": null,
   "metadata": {
    "colab": {
     "base_uri": "https://localhost:8080/",
     "height": 98,
     "resources": {
      "http://localhost:8080/nbextensions/google.colab/files.js": {
       "data": "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",
       "headers": [
        [
         "content-type",
         "application/javascript"
        ]
       ],
       "ok": true,
       "status": 200,
       "status_text": "OK"
      }
     }
    },
    "id": "rGXT2FBUgGy8",
    "outputId": "a36f0633-1df4-4fdd-8435-2d59f520f1c4"
   },
   "outputs": [
    {
     "data": {
      "text/html": [
       "\n",
       "     <input type=\"file\" id=\"files-0dee7c0d-b101-4f68-8a4f-1c5c46163309\" name=\"files[]\" multiple disabled\n",
       "        style=\"border:none\" />\n",
       "     <output id=\"result-0dee7c0d-b101-4f68-8a4f-1c5c46163309\">\n",
       "      Upload widget is only available when the cell has been executed in the\n",
       "      current browser session. Please rerun this cell to enable.\n",
       "      </output>\n",
       "      <script src=\"/nbextensions/google.colab/files.js\"></script> "
      ],
      "text/plain": [
       "<IPython.core.display.HTML object>"
      ]
     },
     "metadata": {
      "tags": []
     },
     "output_type": "display_data"
    },
    {
     "name": "stdout",
     "output_type": "stream",
     "text": [
      "Saving kaggle.json to kaggle.json\n"
     ]
    },
    {
     "data": {
      "text/plain": [
       "{'kaggle.json': b'{\"username\":\"sreeragh97\",\"key\":\"b5226bc28495ca8a2a9f440f0a1b8390\"}'}"
      ]
     },
     "execution_count": 2,
     "metadata": {
      "tags": []
     },
     "output_type": "execute_result"
    }
   ],
   "source": [
    "from google.colab import files\n",
    "files.upload()"
   ]
  },
  {
   "cell_type": "code",
   "execution_count": null,
   "metadata": {
    "id": "m8rXdrV_gMJk"
   },
   "outputs": [],
   "source": [
    "mkdir ~/.kaggle"
   ]
  },
  {
   "cell_type": "code",
   "execution_count": null,
   "metadata": {
    "id": "RlEDemBLgRg5"
   },
   "outputs": [],
   "source": [
    "cp kaggle.json ~/.kaggle/"
   ]
  },
  {
   "cell_type": "code",
   "execution_count": null,
   "metadata": {
    "id": "KwKg8gDigWQl"
   },
   "outputs": [],
   "source": [
    "! chmod 600 ~/.kaggle/kaggle.json"
   ]
  },
  {
   "cell_type": "code",
   "execution_count": null,
   "metadata": {
    "colab": {
     "base_uri": "https://localhost:8080/",
     "height": 69
    },
    "id": "q6YkYOoAgapa",
    "outputId": "8edf39b7-c927-4610-f61c-b4215db894b4"
   },
   "outputs": [
    {
     "name": "stdout",
     "output_type": "stream",
     "text": [
      "Downloading car-evaluation-data-set.zip to /content\n",
      "\r",
      "  0% 0.00/4.66k [00:00<?, ?B/s]\n",
      "\r",
      "100% 4.66k/4.66k [00:00<00:00, 8.45MB/s]\n"
     ]
    }
   ],
   "source": [
    "!kaggle datasets download -d elikplim/car-evaluation-data-set"
   ]
  },
  {
   "cell_type": "code",
   "execution_count": null,
   "metadata": {
    "id": "XVzmLsqcgilX"
   },
   "outputs": [],
   "source": [
    "!mkdir cars"
   ]
  },
  {
   "cell_type": "code",
   "execution_count": null,
   "metadata": {
    "colab": {
     "base_uri": "https://localhost:8080/",
     "height": 34
    },
    "id": "gOh9VCvdgqfv",
    "outputId": "b5664986-7bd2-48de-da41-d618461a8c03"
   },
   "outputs": [
    {
     "name": "stdout",
     "output_type": "stream",
     "text": [
      "car-evaluation-data-set.zip  cars  kaggle.json\tsample_data\n"
     ]
    }
   ],
   "source": [
    "!ls"
   ]
  },
  {
   "cell_type": "code",
   "execution_count": null,
   "metadata": {
    "colab": {
     "base_uri": "https://localhost:8080/",
     "height": 52
    },
    "id": "Y3kv_qsqgs3f",
    "outputId": "d08d4b57-4bb6-448b-9b4f-fd6f219e918f"
   },
   "outputs": [
    {
     "name": "stdout",
     "output_type": "stream",
     "text": [
      "Archive:  car-evaluation-data-set.zip\n",
      "  inflating: cars/car_evaluation.csv  \n"
     ]
    }
   ],
   "source": [
    "!unzip car-evaluation-data-set.zip -d cars"
   ]
  },
  {
   "cell_type": "code",
   "execution_count": null,
   "metadata": {
    "colab": {
     "base_uri": "https://localhost:8080/",
     "height": 34
    },
    "id": "nWKCCxTzg71f",
    "outputId": "9fe5aa21-1b7d-4ce5-cb12-0fdf251d2cf6"
   },
   "outputs": [
    {
     "name": "stdout",
     "output_type": "stream",
     "text": [
      "car_evaluation.csv\n"
     ]
    }
   ],
   "source": [
    "!ls cars"
   ]
  },
  {
   "cell_type": "code",
   "execution_count": null,
   "metadata": {
    "id": "Xy2bmiNjg_-P"
   },
   "outputs": [],
   "source": [
    "#importing the libraries\n",
    "import pandas as pd\n",
    "import numpy as np\n",
    "import tensorflow as tf"
   ]
  },
  {
   "cell_type": "code",
   "execution_count": null,
   "metadata": {
    "colab": {
     "base_uri": "https://localhost:8080/",
     "height": 72
    },
    "id": "G9CetQ5xhMmq",
    "outputId": "8b4a7dcc-4b67-465b-84b7-f5a6d47aba65"
   },
   "outputs": [
    {
     "name": "stderr",
     "output_type": "stream",
     "text": [
      "/usr/local/lib/python3.6/dist-packages/statsmodels/tools/_testing.py:19: FutureWarning: pandas.util.testing is deprecated. Use the functions in the public API at pandas.testing instead.\n",
      "  import pandas.util.testing as tm\n"
     ]
    }
   ],
   "source": [
    "import matplotlib.pyplot as plt\n",
    "%matplotlib inline\n",
    "import seaborn as sns\n",
    "sns.set(style=\"darkgrid\")"
   ]
  },
  {
   "cell_type": "code",
   "execution_count": null,
   "metadata": {
    "colab": {
     "base_uri": "https://localhost:8080/",
     "height": 34
    },
    "id": "jk-FKbhAhU8L",
    "outputId": "6e1eafb3-b218-43ce-f738-05b401d48dac"
   },
   "outputs": [
    {
     "name": "stdout",
     "output_type": "stream",
     "text": [
      "2.3.0\n"
     ]
    }
   ],
   "source": [
    "print(tf.__version__)"
   ]
  },
  {
   "cell_type": "code",
   "execution_count": null,
   "metadata": {
    "id": "f3xn2qkfhdea"
   },
   "outputs": [],
   "source": [
    "cols = ['price', 'maint', 'doors', 'persons', 'lug_capacity', 'safety','output']\n",
    "data = pd.read_csv('/content/cars/car_evaluation.csv',names = cols,header=None)"
   ]
  },
  {
   "cell_type": "code",
   "execution_count": null,
   "metadata": {
    "colab": {
     "base_uri": "https://localhost:8080/",
     "height": 206
    },
    "id": "RE9vOPYdhuvD",
    "outputId": "acb16baa-8f61-4931-c773-b52a3f00ecae"
   },
   "outputs": [
    {
     "data": {
      "text/html": [
       "<div>\n",
       "<style scoped>\n",
       "    .dataframe tbody tr th:only-of-type {\n",
       "        vertical-align: middle;\n",
       "    }\n",
       "\n",
       "    .dataframe tbody tr th {\n",
       "        vertical-align: top;\n",
       "    }\n",
       "\n",
       "    .dataframe thead th {\n",
       "        text-align: right;\n",
       "    }\n",
       "</style>\n",
       "<table border=\"1\" class=\"dataframe\">\n",
       "  <thead>\n",
       "    <tr style=\"text-align: right;\">\n",
       "      <th></th>\n",
       "      <th>price</th>\n",
       "      <th>maint</th>\n",
       "      <th>doors</th>\n",
       "      <th>persons</th>\n",
       "      <th>lug_capacity</th>\n",
       "      <th>safety</th>\n",
       "      <th>output</th>\n",
       "    </tr>\n",
       "  </thead>\n",
       "  <tbody>\n",
       "    <tr>\n",
       "      <th>0</th>\n",
       "      <td>vhigh</td>\n",
       "      <td>vhigh</td>\n",
       "      <td>2</td>\n",
       "      <td>2</td>\n",
       "      <td>small</td>\n",
       "      <td>low</td>\n",
       "      <td>unacc</td>\n",
       "    </tr>\n",
       "    <tr>\n",
       "      <th>1</th>\n",
       "      <td>vhigh</td>\n",
       "      <td>vhigh</td>\n",
       "      <td>2</td>\n",
       "      <td>2</td>\n",
       "      <td>small</td>\n",
       "      <td>med</td>\n",
       "      <td>unacc</td>\n",
       "    </tr>\n",
       "    <tr>\n",
       "      <th>2</th>\n",
       "      <td>vhigh</td>\n",
       "      <td>vhigh</td>\n",
       "      <td>2</td>\n",
       "      <td>2</td>\n",
       "      <td>small</td>\n",
       "      <td>high</td>\n",
       "      <td>unacc</td>\n",
       "    </tr>\n",
       "    <tr>\n",
       "      <th>3</th>\n",
       "      <td>vhigh</td>\n",
       "      <td>vhigh</td>\n",
       "      <td>2</td>\n",
       "      <td>2</td>\n",
       "      <td>med</td>\n",
       "      <td>low</td>\n",
       "      <td>unacc</td>\n",
       "    </tr>\n",
       "    <tr>\n",
       "      <th>4</th>\n",
       "      <td>vhigh</td>\n",
       "      <td>vhigh</td>\n",
       "      <td>2</td>\n",
       "      <td>2</td>\n",
       "      <td>med</td>\n",
       "      <td>med</td>\n",
       "      <td>unacc</td>\n",
       "    </tr>\n",
       "  </tbody>\n",
       "</table>\n",
       "</div>"
      ],
      "text/plain": [
       "   price  maint doors persons lug_capacity safety output\n",
       "0  vhigh  vhigh     2       2        small    low  unacc\n",
       "1  vhigh  vhigh     2       2        small    med  unacc\n",
       "2  vhigh  vhigh     2       2        small   high  unacc\n",
       "3  vhigh  vhigh     2       2          med    low  unacc\n",
       "4  vhigh  vhigh     2       2          med    med  unacc"
      ]
     },
     "execution_count": 19,
     "metadata": {
      "tags": []
     },
     "output_type": "execute_result"
    }
   ],
   "source": [
    "data.head()"
   ]
  },
  {
   "cell_type": "code",
   "execution_count": null,
   "metadata": {
    "id": "v5C8_lAgiBa4"
   },
   "outputs": [],
   "source": [
    "#Data Analysis and preprocessing\n",
    "plot_size = plt.rcParams[\"figure.figsize\"]\n",
    "plot_size [0] = 8\n",
    "plot_size [1] = 6\n",
    "plt.rcParams[\"figure.figsize\"] = plot_size"
   ]
  },
  {
   "cell_type": "code",
   "execution_count": null,
   "metadata": {
    "colab": {
     "base_uri": "https://localhost:8080/",
     "height": 374
    },
    "id": "941l-j90ipXK",
    "outputId": "a22fd5b1-8467-497d-f6a8-a4f699bd2321"
   },
   "outputs": [
    {
     "data": {
      "text/plain": [
       "<matplotlib.axes._subplots.AxesSubplot at 0x7f305f12a358>"
      ]
     },
     "execution_count": 21,
     "metadata": {
      "tags": []
     },
     "output_type": "execute_result"
    },
    {
     "data": {
      "image/png": "[encoded data removed]",
      "text/plain": [
       "<Figure size 576x432 with 1 Axes>"
      ]
     },
     "metadata": {
      "tags": []
     },
     "output_type": "display_data"
    }
   ],
   "source": [
    "data.output.value_counts().plot(kind='pie', autopct='%0.05f%%', colors=['lightblue', 'lightgreen', 'orange', 'pink'], explode=(0.05, 0.05, 0.05,0.05))"
   ]
  },
  {
   "cell_type": "code",
   "execution_count": null,
   "metadata": {
    "id": "fxxVsPdbjrAM"
   },
   "outputs": [],
   "source": [
    "#All the columns in our dataset are categorical. \n",
    "#Deep learning is based on statistical algorithms and statistical algorithms work with numbers. \n",
    "#Therefore, we need to convert the categorical information into numeric column\n",
    "# There are various approaches to do that but one of the most common approach is one-hot encoding. "
   ]
  },
  {
   "cell_type": "code",
   "execution_count": null,
   "metadata": {
    "id": "Ffxg8gxJj4zd"
   },
   "outputs": [],
   "source": [
    "price = pd.get_dummies(data.price, prefix='price')\n",
    "maint = pd.get_dummies(data.maint, prefix='maint')"
   ]
  },
  {
   "cell_type": "code",
   "execution_count": null,
   "metadata": {
    "id": "nbC0tZXikBo7"
   },
   "outputs": [],
   "source": [
    "doors = pd.get_dummies(data.doors, prefix='doors')\n",
    "persons = pd.get_dummies(data.persons, prefix='persons')\n",
    "\n",
    "lug_capacity = pd.get_dummies(data.lug_capacity, prefix='lug_capacity')\n",
    "safety = pd.get_dummies(data.safety, prefix='safety')\n",
    "\n",
    "labels = pd.get_dummies(data.output, prefix='condition')"
   ]
  },
  {
   "cell_type": "code",
   "execution_count": null,
   "metadata": {
    "id": "O2u8n0l_kZlR"
   },
   "outputs": [],
   "source": [
    "#To get the feature set,the columns are merged\n",
    "X = pd.concat([price, maint, doors, persons, lug_capacity, safety] , axis=1)"
   ]
  },
  {
   "cell_type": "code",
   "execution_count": null,
   "metadata": {
    "colab": {
     "base_uri": "https://localhost:8080/",
     "height": 206
    },
    "id": "9LRCkIJKkpUQ",
    "outputId": "10521e26-f8b4-4063-d69c-bf4c1fb436c1"
   },
   "outputs": [
    {
     "data": {
      "text/html": [
       "<div>\n",
       "<style scoped>\n",
       "    .dataframe tbody tr th:only-of-type {\n",
       "        vertical-align: middle;\n",
       "    }\n",
       "\n",
       "    .dataframe tbody tr th {\n",
       "        vertical-align: top;\n",
       "    }\n",
       "\n",
       "    .dataframe thead th {\n",
       "        text-align: right;\n",
       "    }\n",
       "</style>\n",
       "<table border=\"1\" class=\"dataframe\">\n",
       "  <thead>\n",
       "    <tr style=\"text-align: right;\">\n",
       "      <th></th>\n",
       "      <th>condition_acc</th>\n",
       "      <th>condition_good</th>\n",
       "      <th>condition_unacc</th>\n",
       "      <th>condition_vgood</th>\n",
       "    </tr>\n",
       "  </thead>\n",
       "  <tbody>\n",
       "    <tr>\n",
       "      <th>0</th>\n",
       "      <td>0</td>\n",
       "      <td>0</td>\n",
       "      <td>1</td>\n",
       "      <td>0</td>\n",
       "    </tr>\n",
       "    <tr>\n",
       "      <th>1</th>\n",
       "      <td>0</td>\n",
       "      <td>0</td>\n",
       "      <td>1</td>\n",
       "      <td>0</td>\n",
       "    </tr>\n",
       "    <tr>\n",
       "      <th>2</th>\n",
       "      <td>0</td>\n",
       "      <td>0</td>\n",
       "      <td>1</td>\n",
       "      <td>0</td>\n",
       "    </tr>\n",
       "    <tr>\n",
       "      <th>3</th>\n",
       "      <td>0</td>\n",
       "      <td>0</td>\n",
       "      <td>1</td>\n",
       "      <td>0</td>\n",
       "    </tr>\n",
       "    <tr>\n",
       "      <th>4</th>\n",
       "      <td>0</td>\n",
       "      <td>0</td>\n",
       "      <td>1</td>\n",
       "      <td>0</td>\n",
       "    </tr>\n",
       "  </tbody>\n",
       "</table>\n",
       "</div>"
      ],
      "text/plain": [
       "   condition_acc  condition_good  condition_unacc  condition_vgood\n",
       "0              0               0                1                0\n",
       "1              0               0                1                0\n",
       "2              0               0                1                0\n",
       "3              0               0                1                0\n",
       "4              0               0                1                0"
      ]
     },
     "execution_count": 27,
     "metadata": {
      "tags": []
     },
     "output_type": "execute_result"
    }
   ],
   "source": [
    "labels.head()"
   ]
  },
  {
   "cell_type": "code",
   "execution_count": null,
   "metadata": {
    "id": "AeVnVTykk0K_"
   },
   "outputs": [],
   "source": [
    "y = labels.values"
   ]
  },
  {
   "cell_type": "code",
   "execution_count": null,
   "metadata": {
    "id": "EidbrGDrlLwm"
   },
   "outputs": [],
   "source": [
    "from sklearn.model_selection import train_test_split\n",
    "X_train, X_test, y_train, y_test = train_test_split(X, y, test_size=0.25, random_state=42)"
   ]
  },
  {
   "cell_type": "code",
   "execution_count": null,
   "metadata": {
    "id": "KYcKz6EplguJ"
   },
   "outputs": [],
   "source": [
    "#Deep learning starts here!!!\n",
    "from tensorflow.keras.layers import Input, Dense, Activation,Dropout\n",
    "from tensorflow.keras.models import Model"
   ]
  },
  {
   "cell_type": "code",
   "execution_count": null,
   "metadata": {
    "id": "GhUx-TIkltG5"
   },
   "outputs": [],
   "source": [
    "input_layer = Input(shape=(X.shape[1],))\n",
    "dense_layer_1 = Dense(15, activation='relu')(input_layer)\n",
    "dense_layer_2 = Dense(10, activation='relu')(dense_layer_1)\n",
    "output = Dense(y.shape[1], activation='softmax')(dense_layer_2)\n",
    "\n",
    "model = Model(inputs=input_layer, outputs=output)\n",
    "model.compile(loss='categorical_crossentropy', optimizer='adam', metrics=['acc'])"
   ]
  },
  {
   "cell_type": "code",
   "execution_count": null,
   "metadata": {
    "colab": {
     "base_uri": "https://localhost:8080/",
     "height": 295
    },
    "id": "8eMChJMYl1qh",
    "outputId": "ef2e0194-1699-4d31-b4c7-e1c86e89f5f6"
   },
   "outputs": [
    {
     "name": "stdout",
     "output_type": "stream",
     "text": [
      "Model: \"functional_1\"\n",
      "_________________________________________________________________\n",
      "Layer (type)                 Output Shape              Param #   \n",
      "=================================================================\n",
      "input_1 (InputLayer)         [(None, 21)]              0         \n",
      "_________________________________________________________________\n",
      "dense (Dense)                (None, 15)                330       \n",
      "_________________________________________________________________\n",
      "dense_1 (Dense)              (None, 10)                160       \n",
      "_________________________________________________________________\n",
      "dense_2 (Dense)              (None, 4)                 44        \n",
      "=================================================================\n",
      "Total params: 534\n",
      "Trainable params: 534\n",
      "Non-trainable params: 0\n",
      "_________________________________________________________________\n"
     ]
    }
   ],
   "source": [
    "model.summary()"
   ]
  },
  {
   "cell_type": "code",
   "execution_count": null,
   "metadata": {
    "colab": {
     "base_uri": "https://localhost:8080/",
     "height": 1000
    },
    "id": "FZBe-26gl7eq",
    "outputId": "9bd75246-e934-4fc3-f743-edb1b907d64f"
   },
   "outputs": [
    {
     "name": "stdout",
     "output_type": "stream",
     "text": [
      "Epoch 1/60\n",
      "130/130 [==============================] - 0s 2ms/step - loss: 1.1405 - acc: 0.5618 - val_loss: 0.9204 - val_acc: 0.6462\n",
      "Epoch 2/60\n",
      "130/130 [==============================] - 0s 1ms/step - loss: 0.7145 - acc: 0.7230 - val_loss: 0.7419 - val_acc: 0.6462\n",
      "Epoch 3/60\n",
      "130/130 [==============================] - 0s 1ms/step - loss: 0.5591 - acc: 0.7625 - val_loss: 0.6040 - val_acc: 0.7500\n",
      "Epoch 4/60\n",
      "130/130 [==============================] - 0s 1ms/step - loss: 0.4482 - acc: 0.8263 - val_loss: 0.5273 - val_acc: 0.8000\n",
      "Epoch 5/60\n",
      "130/130 [==============================] - 0s 1ms/step - loss: 0.3818 - acc: 0.8687 - val_loss: 0.4847 - val_acc: 0.8231\n",
      "Epoch 6/60\n",
      "130/130 [==============================] - 0s 1ms/step - loss: 0.3393 - acc: 0.8803 - val_loss: 0.4415 - val_acc: 0.8615\n",
      "Epoch 7/60\n",
      "130/130 [==============================] - 0s 1ms/step - loss: 0.3092 - acc: 0.8919 - val_loss: 0.4117 - val_acc: 0.8423\n",
      "Epoch 8/60\n",
      "130/130 [==============================] - 0s 1ms/step - loss: 0.2839 - acc: 0.8977 - val_loss: 0.3880 - val_acc: 0.8500\n",
      "Epoch 9/60\n",
      "130/130 [==============================] - 0s 1ms/step - loss: 0.2645 - acc: 0.9006 - val_loss: 0.3568 - val_acc: 0.8615\n",
      "Epoch 10/60\n",
      "130/130 [==============================] - 0s 1ms/step - loss: 0.2441 - acc: 0.9073 - val_loss: 0.3388 - val_acc: 0.8577\n",
      "Epoch 11/60\n",
      "130/130 [==============================] - 0s 1ms/step - loss: 0.2312 - acc: 0.9054 - val_loss: 0.3287 - val_acc: 0.8577\n",
      "Epoch 12/60\n",
      "130/130 [==============================] - 0s 1ms/step - loss: 0.2102 - acc: 0.9151 - val_loss: 0.2985 - val_acc: 0.8769\n",
      "Epoch 13/60\n",
      "130/130 [==============================] - 0s 1ms/step - loss: 0.1951 - acc: 0.9208 - val_loss: 0.2845 - val_acc: 0.8885\n",
      "Epoch 14/60\n",
      "130/130 [==============================] - 0s 1ms/step - loss: 0.1836 - acc: 0.9305 - val_loss: 0.2722 - val_acc: 0.8962\n",
      "Epoch 15/60\n",
      "130/130 [==============================] - 0s 1ms/step - loss: 0.1688 - acc: 0.9295 - val_loss: 0.2475 - val_acc: 0.8962\n",
      "Epoch 16/60\n",
      "130/130 [==============================] - 0s 1ms/step - loss: 0.1590 - acc: 0.9421 - val_loss: 0.2425 - val_acc: 0.8962\n",
      "Epoch 17/60\n",
      "130/130 [==============================] - 0s 1ms/step - loss: 0.1460 - acc: 0.9440 - val_loss: 0.2225 - val_acc: 0.9038\n",
      "Epoch 18/60\n",
      "130/130 [==============================] - 0s 1ms/step - loss: 0.1323 - acc: 0.9595 - val_loss: 0.2167 - val_acc: 0.9115\n",
      "Epoch 19/60\n",
      "130/130 [==============================] - 0s 1ms/step - loss: 0.1202 - acc: 0.9701 - val_loss: 0.1848 - val_acc: 0.9231\n",
      "Epoch 20/60\n",
      "130/130 [==============================] - 0s 1ms/step - loss: 0.1092 - acc: 0.9710 - val_loss: 0.1808 - val_acc: 0.9269\n",
      "Epoch 21/60\n",
      "130/130 [==============================] - 0s 1ms/step - loss: 0.1004 - acc: 0.9749 - val_loss: 0.1710 - val_acc: 0.9308\n",
      "Epoch 22/60\n",
      "130/130 [==============================] - 0s 1ms/step - loss: 0.0927 - acc: 0.9817 - val_loss: 0.1642 - val_acc: 0.9308\n",
      "Epoch 23/60\n",
      "130/130 [==============================] - 0s 1ms/step - loss: 0.0875 - acc: 0.9788 - val_loss: 0.1534 - val_acc: 0.9385\n",
      "Epoch 24/60\n",
      "130/130 [==============================] - 0s 1ms/step - loss: 0.0772 - acc: 0.9836 - val_loss: 0.1526 - val_acc: 0.9462\n",
      "Epoch 25/60\n",
      "130/130 [==============================] - 0s 1ms/step - loss: 0.0734 - acc: 0.9836 - val_loss: 0.1314 - val_acc: 0.9577\n",
      "Epoch 26/60\n",
      "130/130 [==============================] - 0s 1ms/step - loss: 0.0673 - acc: 0.9875 - val_loss: 0.1247 - val_acc: 0.9538\n",
      "Epoch 27/60\n",
      "130/130 [==============================] - 0s 1ms/step - loss: 0.0625 - acc: 0.9894 - val_loss: 0.1245 - val_acc: 0.9577\n",
      "Epoch 28/60\n",
      "130/130 [==============================] - 0s 1ms/step - loss: 0.0584 - acc: 0.9884 - val_loss: 0.1171 - val_acc: 0.9615\n",
      "Epoch 29/60\n",
      "130/130 [==============================] - 0s 1ms/step - loss: 0.0548 - acc: 0.9894 - val_loss: 0.1223 - val_acc: 0.9538\n",
      "Epoch 30/60\n",
      "130/130 [==============================] - 0s 1ms/step - loss: 0.0526 - acc: 0.9875 - val_loss: 0.1064 - val_acc: 0.9615\n",
      "Epoch 31/60\n",
      "130/130 [==============================] - 0s 1ms/step - loss: 0.0473 - acc: 0.9923 - val_loss: 0.1013 - val_acc: 0.9654\n",
      "Epoch 32/60\n",
      "130/130 [==============================] - 0s 1ms/step - loss: 0.0428 - acc: 0.9952 - val_loss: 0.0977 - val_acc: 0.9654\n",
      "Epoch 33/60\n",
      "130/130 [==============================] - 0s 1ms/step - loss: 0.0404 - acc: 0.9942 - val_loss: 0.0970 - val_acc: 0.9692\n",
      "Epoch 34/60\n",
      "130/130 [==============================] - 0s 1ms/step - loss: 0.0381 - acc: 0.9932 - val_loss: 0.1015 - val_acc: 0.9577\n",
      "Epoch 35/60\n",
      "130/130 [==============================] - 0s 1ms/step - loss: 0.0346 - acc: 0.9932 - val_loss: 0.0985 - val_acc: 0.9577\n",
      "Epoch 36/60\n",
      "130/130 [==============================] - 0s 1ms/step - loss: 0.0330 - acc: 0.9961 - val_loss: 0.0854 - val_acc: 0.9692\n",
      "Epoch 37/60\n",
      "130/130 [==============================] - 0s 1ms/step - loss: 0.0317 - acc: 0.9961 - val_loss: 0.0900 - val_acc: 0.9692\n",
      "Epoch 38/60\n",
      "130/130 [==============================] - 0s 1ms/step - loss: 0.0291 - acc: 0.9971 - val_loss: 0.0893 - val_acc: 0.9692\n",
      "Epoch 39/60\n",
      "130/130 [==============================] - 0s 1ms/step - loss: 0.0271 - acc: 0.9990 - val_loss: 0.0796 - val_acc: 0.9731\n",
      "Epoch 40/60\n",
      "130/130 [==============================] - 0s 1ms/step - loss: 0.0245 - acc: 0.9981 - val_loss: 0.0812 - val_acc: 0.9731\n",
      "Epoch 41/60\n",
      "130/130 [==============================] - 0s 1ms/step - loss: 0.0237 - acc: 0.9990 - val_loss: 0.0845 - val_acc: 0.9692\n",
      "Epoch 42/60\n",
      "130/130 [==============================] - 0s 1ms/step - loss: 0.0231 - acc: 0.9971 - val_loss: 0.0839 - val_acc: 0.9577\n",
      "Epoch 43/60\n",
      "130/130 [==============================] - 0s 1ms/step - loss: 0.0198 - acc: 0.9990 - val_loss: 0.0874 - val_acc: 0.9615\n",
      "Epoch 44/60\n",
      "130/130 [==============================] - 0s 1ms/step - loss: 0.0187 - acc: 1.0000 - val_loss: 0.0764 - val_acc: 0.9731\n",
      "Epoch 45/60\n",
      "130/130 [==============================] - 0s 1ms/step - loss: 0.0168 - acc: 1.0000 - val_loss: 0.0800 - val_acc: 0.9654\n",
      "Epoch 46/60\n",
      "130/130 [==============================] - 0s 1ms/step - loss: 0.0159 - acc: 1.0000 - val_loss: 0.0757 - val_acc: 0.9692\n",
      "Epoch 47/60\n",
      "130/130 [==============================] - 0s 1ms/step - loss: 0.0154 - acc: 1.0000 - val_loss: 0.0674 - val_acc: 0.9731\n",
      "Epoch 48/60\n",
      "130/130 [==============================] - 0s 1ms/step - loss: 0.0142 - acc: 1.0000 - val_loss: 0.0705 - val_acc: 0.9654\n",
      "Epoch 49/60\n",
      "130/130 [==============================] - 0s 1ms/step - loss: 0.0126 - acc: 1.0000 - val_loss: 0.0707 - val_acc: 0.9692\n",
      "Epoch 50/60\n",
      "130/130 [==============================] - 0s 1ms/step - loss: 0.0118 - acc: 1.0000 - val_loss: 0.0751 - val_acc: 0.9654\n",
      "Epoch 51/60\n",
      "130/130 [==============================] - 0s 1ms/step - loss: 0.0114 - acc: 1.0000 - val_loss: 0.0669 - val_acc: 0.9692\n",
      "Epoch 52/60\n",
      "130/130 [==============================] - 0s 1ms/step - loss: 0.0106 - acc: 1.0000 - val_loss: 0.0607 - val_acc: 0.9731\n",
      "Epoch 53/60\n",
      "130/130 [==============================] - 0s 1ms/step - loss: 0.0102 - acc: 1.0000 - val_loss: 0.0658 - val_acc: 0.9731\n",
      "Epoch 54/60\n",
      "130/130 [==============================] - 0s 1ms/step - loss: 0.0094 - acc: 1.0000 - val_loss: 0.0646 - val_acc: 0.9731\n",
      "Epoch 55/60\n",
      "130/130 [==============================] - 0s 1ms/step - loss: 0.0081 - acc: 1.0000 - val_loss: 0.0699 - val_acc: 0.9692\n",
      "Epoch 56/60\n",
      "130/130 [==============================] - 0s 1ms/step - loss: 0.0079 - acc: 1.0000 - val_loss: 0.0642 - val_acc: 0.9692\n",
      "Epoch 57/60\n",
      "130/130 [==============================] - 0s 1ms/step - loss: 0.0071 - acc: 1.0000 - val_loss: 0.0640 - val_acc: 0.9692\n",
      "Epoch 58/60\n",
      "130/130 [==============================] - 0s 1ms/step - loss: 0.0067 - acc: 1.0000 - val_loss: 0.0609 - val_acc: 0.9692\n",
      "Epoch 59/60\n",
      "130/130 [==============================] - 0s 1ms/step - loss: 0.0063 - acc: 1.0000 - val_loss: 0.0621 - val_acc: 0.9692\n",
      "Epoch 60/60\n",
      "130/130 [==============================] - 0s 1ms/step - loss: 0.0060 - acc: 1.0000 - val_loss: 0.0632 - val_acc: 0.9692\n"
     ]
    }
   ],
   "source": [
    "history = model.fit(X_train, y_train, batch_size=8, epochs=60, verbose=1, validation_split=0.2)"
   ]
  },
  {
   "cell_type": "code",
   "execution_count": null,
   "metadata": {
    "colab": {
     "base_uri": "https://localhost:8080/",
     "height": 69
    },
    "id": "lCqWzsVjmIJ8",
    "outputId": "a292c940-3bf8-4986-881f-c5a66ca986a1"
   },
   "outputs": [
    {
     "name": "stdout",
     "output_type": "stream",
     "text": [
      "14/14 [==============================] - 0s 950us/step - loss: 0.0546 - acc: 0.9769\n",
      "Test Score: 0.054562587291002274\n",
      "Test Accuracy: 0.9768518805503845\n"
     ]
    }
   ],
   "source": [
    "score = model.evaluate(X_test, y_test, verbose=1)\n",
    "\n",
    "print(\"Test Score:\", score[0])\n",
    "print(\"Test Accuracy:\", score[1])"
   ]
  },
  {
   "cell_type": "code",
   "execution_count": null,
   "metadata": {
    "id": "Wbw5wHfhmT3W"
   },
   "outputs": [],
   "source": [
    "#The model achieves an accuracy of 97.39% on the test set\n",
    "#Though it is slightly less than the training accuracy of 100%\n",
    "#it is still very good given the fact that we randomly chose the number of layers and the nodes"
   ]
  }
 ],
 "metadata": {
  "colab": {
   "collapsed_sections": [],
   "name": "Car Analysis(kaggle data).ipynb",
   "provenance": []
  },
  "kernelspec": {
   "display_name": "Python 3",
   "language": "python",
   "name": "python3"
  },
  "language_info": {
   "codemirror_mode": {
    "name": "ipython",
    "version": 3
   },
   "file_extension": ".py",
   "mimetype": "text/x-python",
   "name": "python",
   "nbconvert_exporter": "python",
   "pygments_lexer": "ipython3",
   "version": "3.6.9"
  }
 },
 "nbformat": 4,
 "nbformat_minor": 1
}
