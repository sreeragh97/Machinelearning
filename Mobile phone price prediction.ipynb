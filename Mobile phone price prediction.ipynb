{
 "cells": [
  {
   "cell_type": "code",
   "execution_count": 1,
   "metadata": {},
   "outputs": [],
   "source": [
    "import pandas as pd\n",
    "import matplotlib.pyplot as plt"
   ]
  },
  {
   "cell_type": "code",
   "execution_count": 2,
   "metadata": {},
   "outputs": [],
   "source": [
    "train = pd.read_csv('/home/student/Desktop/ML/datasets/mobile phone price/train.csv')\n",
    "test  = pd.read_csv('/home/student/Desktop/ML/datasets/mobile phone price/test.csv')"
   ]
  },
  {
   "cell_type": "code",
   "execution_count": 3,
   "metadata": {},
   "outputs": [
    {
     "data": {
      "text/plain": [
       "(2000, 21)"
      ]
     },
     "execution_count": 3,
     "metadata": {},
     "output_type": "execute_result"
    }
   ],
   "source": [
    "train.shape"
   ]
  },
  {
   "cell_type": "code",
   "execution_count": 4,
   "metadata": {},
   "outputs": [],
   "source": [
    "#Adding the column type to identify train data\n",
    "train['type'] = 'train'\n"
   ]
  },
  {
   "cell_type": "code",
   "execution_count": 5,
   "metadata": {},
   "outputs": [
    {
     "data": {
      "text/plain": [
       "(1000, 21)"
      ]
     },
     "execution_count": 5,
     "metadata": {},
     "output_type": "execute_result"
    }
   ],
   "source": [
    "test.shape"
   ]
  },
  {
   "cell_type": "code",
   "execution_count": 6,
   "metadata": {},
   "outputs": [],
   "source": [
    "test_data = test.drop(\"id\",axis=1)\n"
   ]
  },
  {
   "cell_type": "code",
   "execution_count": 7,
   "metadata": {},
   "outputs": [],
   "source": [
    "#Adding type to identify test data\n",
    "test_data['type'] = 'test'"
   ]
  },
  {
   "cell_type": "code",
   "execution_count": 8,
   "metadata": {},
   "outputs": [],
   "source": [
    "#we have to combine the test and train data using conca\n",
    "data = pd.concat([train,test_data])\n"
   ]
  },
  {
   "cell_type": "code",
   "execution_count": 9,
   "metadata": {},
   "outputs": [
    {
     "data": {
      "text/plain": [
       "(3000, 22)"
      ]
     },
     "execution_count": 9,
     "metadata": {},
     "output_type": "execute_result"
    }
   ],
   "source": [
    "data.shape"
   ]
  },
  {
   "cell_type": "code",
   "execution_count": 10,
   "metadata": {},
   "outputs": [
    {
     "data": {
      "text/plain": [
       "Index(['battery_power', 'blue', 'clock_speed', 'dual_sim', 'fc', 'four_g',\n",
       "       'int_memory', 'm_dep', 'mobile_wt', 'n_cores', 'pc', 'px_height',\n",
       "       'px_width', 'ram', 'sc_h', 'sc_w', 'talk_time', 'three_g',\n",
       "       'touch_screen', 'wifi', 'price', 'type'],\n",
       "      dtype='object')"
      ]
     },
     "execution_count": 10,
     "metadata": {},
     "output_type": "execute_result"
    }
   ],
   "source": [
    "data.columns"
   ]
  },
  {
   "cell_type": "code",
   "execution_count": 11,
   "metadata": {},
   "outputs": [
    {
     "data": {
      "text/html": [
       "<div>\n",
       "<style scoped>\n",
       "    .dataframe tbody tr th:only-of-type {\n",
       "        vertical-align: middle;\n",
       "    }\n",
       "\n",
       "    .dataframe tbody tr th {\n",
       "        vertical-align: top;\n",
       "    }\n",
       "\n",
       "    .dataframe thead th {\n",
       "        text-align: right;\n",
       "    }\n",
       "</style>\n",
       "<table border=\"1\" class=\"dataframe\">\n",
       "  <thead>\n",
       "    <tr style=\"text-align: right;\">\n",
       "      <th></th>\n",
       "      <th>battery_power</th>\n",
       "      <th>blue</th>\n",
       "      <th>clock_speed</th>\n",
       "      <th>dual_sim</th>\n",
       "      <th>fc</th>\n",
       "      <th>four_g</th>\n",
       "      <th>int_memory</th>\n",
       "      <th>m_dep</th>\n",
       "      <th>mobile_wt</th>\n",
       "      <th>n_cores</th>\n",
       "      <th>...</th>\n",
       "      <th>px_width</th>\n",
       "      <th>ram</th>\n",
       "      <th>sc_h</th>\n",
       "      <th>sc_w</th>\n",
       "      <th>talk_time</th>\n",
       "      <th>three_g</th>\n",
       "      <th>touch_screen</th>\n",
       "      <th>wifi</th>\n",
       "      <th>price</th>\n",
       "      <th>type</th>\n",
       "    </tr>\n",
       "  </thead>\n",
       "  <tbody>\n",
       "    <tr>\n",
       "      <th>0</th>\n",
       "      <td>842</td>\n",
       "      <td>0</td>\n",
       "      <td>2.2</td>\n",
       "      <td>0</td>\n",
       "      <td>1</td>\n",
       "      <td>0</td>\n",
       "      <td>7</td>\n",
       "      <td>0.6</td>\n",
       "      <td>188</td>\n",
       "      <td>2</td>\n",
       "      <td>...</td>\n",
       "      <td>756</td>\n",
       "      <td>2549</td>\n",
       "      <td>9</td>\n",
       "      <td>7</td>\n",
       "      <td>19</td>\n",
       "      <td>0</td>\n",
       "      <td>0</td>\n",
       "      <td>1</td>\n",
       "      <td>11031.0</td>\n",
       "      <td>train</td>\n",
       "    </tr>\n",
       "    <tr>\n",
       "      <th>1</th>\n",
       "      <td>1021</td>\n",
       "      <td>1</td>\n",
       "      <td>0.5</td>\n",
       "      <td>1</td>\n",
       "      <td>0</td>\n",
       "      <td>1</td>\n",
       "      <td>53</td>\n",
       "      <td>0.7</td>\n",
       "      <td>136</td>\n",
       "      <td>3</td>\n",
       "      <td>...</td>\n",
       "      <td>1988</td>\n",
       "      <td>2631</td>\n",
       "      <td>17</td>\n",
       "      <td>3</td>\n",
       "      <td>7</td>\n",
       "      <td>1</td>\n",
       "      <td>1</td>\n",
       "      <td>0</td>\n",
       "      <td>15456.0</td>\n",
       "      <td>train</td>\n",
       "    </tr>\n",
       "    <tr>\n",
       "      <th>2</th>\n",
       "      <td>563</td>\n",
       "      <td>1</td>\n",
       "      <td>0.5</td>\n",
       "      <td>1</td>\n",
       "      <td>2</td>\n",
       "      <td>1</td>\n",
       "      <td>41</td>\n",
       "      <td>0.9</td>\n",
       "      <td>145</td>\n",
       "      <td>5</td>\n",
       "      <td>...</td>\n",
       "      <td>1716</td>\n",
       "      <td>2603</td>\n",
       "      <td>11</td>\n",
       "      <td>2</td>\n",
       "      <td>9</td>\n",
       "      <td>1</td>\n",
       "      <td>1</td>\n",
       "      <td>0</td>\n",
       "      <td>15531.0</td>\n",
       "      <td>train</td>\n",
       "    </tr>\n",
       "    <tr>\n",
       "      <th>3</th>\n",
       "      <td>615</td>\n",
       "      <td>1</td>\n",
       "      <td>2.5</td>\n",
       "      <td>0</td>\n",
       "      <td>0</td>\n",
       "      <td>0</td>\n",
       "      <td>10</td>\n",
       "      <td>0.8</td>\n",
       "      <td>131</td>\n",
       "      <td>6</td>\n",
       "      <td>...</td>\n",
       "      <td>1786</td>\n",
       "      <td>2769</td>\n",
       "      <td>16</td>\n",
       "      <td>8</td>\n",
       "      <td>11</td>\n",
       "      <td>1</td>\n",
       "      <td>0</td>\n",
       "      <td>0</td>\n",
       "      <td>14718.0</td>\n",
       "      <td>train</td>\n",
       "    </tr>\n",
       "    <tr>\n",
       "      <th>4</th>\n",
       "      <td>1821</td>\n",
       "      <td>1</td>\n",
       "      <td>1.2</td>\n",
       "      <td>0</td>\n",
       "      <td>13</td>\n",
       "      <td>1</td>\n",
       "      <td>44</td>\n",
       "      <td>0.6</td>\n",
       "      <td>141</td>\n",
       "      <td>2</td>\n",
       "      <td>...</td>\n",
       "      <td>1212</td>\n",
       "      <td>1411</td>\n",
       "      <td>8</td>\n",
       "      <td>2</td>\n",
       "      <td>15</td>\n",
       "      <td>1</td>\n",
       "      <td>1</td>\n",
       "      <td>0</td>\n",
       "      <td>10558.0</td>\n",
       "      <td>train</td>\n",
       "    </tr>\n",
       "  </tbody>\n",
       "</table>\n",
       "<p>5 rows × 22 columns</p>\n",
       "</div>"
      ],
      "text/plain": [
       "   battery_power  blue  clock_speed  dual_sim  fc  four_g  int_memory  m_dep  \\\n",
       "0            842     0          2.2         0   1       0           7    0.6   \n",
       "1           1021     1          0.5         1   0       1          53    0.7   \n",
       "2            563     1          0.5         1   2       1          41    0.9   \n",
       "3            615     1          2.5         0   0       0          10    0.8   \n",
       "4           1821     1          1.2         0  13       1          44    0.6   \n",
       "\n",
       "   mobile_wt  n_cores  ...  px_width   ram  sc_h  sc_w  talk_time  three_g  \\\n",
       "0        188        2  ...       756  2549     9     7         19        0   \n",
       "1        136        3  ...      1988  2631    17     3          7        1   \n",
       "2        145        5  ...      1716  2603    11     2          9        1   \n",
       "3        131        6  ...      1786  2769    16     8         11        1   \n",
       "4        141        2  ...      1212  1411     8     2         15        1   \n",
       "\n",
       "   touch_screen  wifi    price   type  \n",
       "0             0     1  11031.0  train  \n",
       "1             1     0  15456.0  train  \n",
       "2             1     0  15531.0  train  \n",
       "3             0     0  14718.0  train  \n",
       "4             1     0  10558.0  train  \n",
       "\n",
       "[5 rows x 22 columns]"
      ]
     },
     "execution_count": 11,
     "metadata": {},
     "output_type": "execute_result"
    }
   ],
   "source": [
    "data.head()"
   ]
  },
  {
   "cell_type": "code",
   "execution_count": 12,
   "metadata": {},
   "outputs": [
    {
     "data": {
      "text/plain": [
       "battery_power       0\n",
       "blue                0\n",
       "clock_speed         0\n",
       "dual_sim            0\n",
       "fc                  0\n",
       "four_g              0\n",
       "int_memory          0\n",
       "m_dep               0\n",
       "mobile_wt           0\n",
       "n_cores             0\n",
       "pc                  0\n",
       "px_height           0\n",
       "px_width            0\n",
       "ram                 0\n",
       "sc_h                0\n",
       "sc_w                0\n",
       "talk_time           0\n",
       "three_g             0\n",
       "touch_screen        0\n",
       "wifi                0\n",
       "price            1000\n",
       "type                0\n",
       "dtype: int64"
      ]
     },
     "execution_count": 12,
     "metadata": {},
     "output_type": "execute_result"
    }
   ],
   "source": [
    "data.isnull().sum()"
   ]
  },
  {
   "cell_type": "code",
   "execution_count": 13,
   "metadata": {},
   "outputs": [
    {
     "data": {
      "text/html": [
       "<div>\n",
       "<style scoped>\n",
       "    .dataframe tbody tr th:only-of-type {\n",
       "        vertical-align: middle;\n",
       "    }\n",
       "\n",
       "    .dataframe tbody tr th {\n",
       "        vertical-align: top;\n",
       "    }\n",
       "\n",
       "    .dataframe thead th {\n",
       "        text-align: right;\n",
       "    }\n",
       "</style>\n",
       "<table border=\"1\" class=\"dataframe\">\n",
       "  <thead>\n",
       "    <tr style=\"text-align: right;\">\n",
       "      <th></th>\n",
       "      <th>battery_power</th>\n",
       "      <th>blue</th>\n",
       "      <th>clock_speed</th>\n",
       "      <th>dual_sim</th>\n",
       "      <th>fc</th>\n",
       "      <th>four_g</th>\n",
       "      <th>int_memory</th>\n",
       "      <th>m_dep</th>\n",
       "      <th>mobile_wt</th>\n",
       "      <th>n_cores</th>\n",
       "      <th>...</th>\n",
       "      <th>px_width</th>\n",
       "      <th>ram</th>\n",
       "      <th>sc_h</th>\n",
       "      <th>sc_w</th>\n",
       "      <th>talk_time</th>\n",
       "      <th>three_g</th>\n",
       "      <th>touch_screen</th>\n",
       "      <th>wifi</th>\n",
       "      <th>price</th>\n",
       "      <th>type</th>\n",
       "    </tr>\n",
       "  </thead>\n",
       "  <tbody>\n",
       "    <tr>\n",
       "      <th>0</th>\n",
       "      <td>842</td>\n",
       "      <td>0</td>\n",
       "      <td>2.2</td>\n",
       "      <td>0</td>\n",
       "      <td>1</td>\n",
       "      <td>0</td>\n",
       "      <td>7</td>\n",
       "      <td>0.6</td>\n",
       "      <td>188</td>\n",
       "      <td>2</td>\n",
       "      <td>...</td>\n",
       "      <td>756</td>\n",
       "      <td>2549</td>\n",
       "      <td>9</td>\n",
       "      <td>7</td>\n",
       "      <td>19</td>\n",
       "      <td>0</td>\n",
       "      <td>0</td>\n",
       "      <td>1</td>\n",
       "      <td>11031.0</td>\n",
       "      <td>train</td>\n",
       "    </tr>\n",
       "    <tr>\n",
       "      <th>1</th>\n",
       "      <td>1021</td>\n",
       "      <td>1</td>\n",
       "      <td>0.5</td>\n",
       "      <td>1</td>\n",
       "      <td>0</td>\n",
       "      <td>1</td>\n",
       "      <td>53</td>\n",
       "      <td>0.7</td>\n",
       "      <td>136</td>\n",
       "      <td>3</td>\n",
       "      <td>...</td>\n",
       "      <td>1988</td>\n",
       "      <td>2631</td>\n",
       "      <td>17</td>\n",
       "      <td>3</td>\n",
       "      <td>7</td>\n",
       "      <td>1</td>\n",
       "      <td>1</td>\n",
       "      <td>0</td>\n",
       "      <td>15456.0</td>\n",
       "      <td>train</td>\n",
       "    </tr>\n",
       "    <tr>\n",
       "      <th>2</th>\n",
       "      <td>563</td>\n",
       "      <td>1</td>\n",
       "      <td>0.5</td>\n",
       "      <td>1</td>\n",
       "      <td>2</td>\n",
       "      <td>1</td>\n",
       "      <td>41</td>\n",
       "      <td>0.9</td>\n",
       "      <td>145</td>\n",
       "      <td>5</td>\n",
       "      <td>...</td>\n",
       "      <td>1716</td>\n",
       "      <td>2603</td>\n",
       "      <td>11</td>\n",
       "      <td>2</td>\n",
       "      <td>9</td>\n",
       "      <td>1</td>\n",
       "      <td>1</td>\n",
       "      <td>0</td>\n",
       "      <td>15531.0</td>\n",
       "      <td>train</td>\n",
       "    </tr>\n",
       "    <tr>\n",
       "      <th>3</th>\n",
       "      <td>615</td>\n",
       "      <td>1</td>\n",
       "      <td>2.5</td>\n",
       "      <td>0</td>\n",
       "      <td>0</td>\n",
       "      <td>0</td>\n",
       "      <td>10</td>\n",
       "      <td>0.8</td>\n",
       "      <td>131</td>\n",
       "      <td>6</td>\n",
       "      <td>...</td>\n",
       "      <td>1786</td>\n",
       "      <td>2769</td>\n",
       "      <td>16</td>\n",
       "      <td>8</td>\n",
       "      <td>11</td>\n",
       "      <td>1</td>\n",
       "      <td>0</td>\n",
       "      <td>0</td>\n",
       "      <td>14718.0</td>\n",
       "      <td>train</td>\n",
       "    </tr>\n",
       "    <tr>\n",
       "      <th>4</th>\n",
       "      <td>1821</td>\n",
       "      <td>1</td>\n",
       "      <td>1.2</td>\n",
       "      <td>0</td>\n",
       "      <td>13</td>\n",
       "      <td>1</td>\n",
       "      <td>44</td>\n",
       "      <td>0.6</td>\n",
       "      <td>141</td>\n",
       "      <td>2</td>\n",
       "      <td>...</td>\n",
       "      <td>1212</td>\n",
       "      <td>1411</td>\n",
       "      <td>8</td>\n",
       "      <td>2</td>\n",
       "      <td>15</td>\n",
       "      <td>1</td>\n",
       "      <td>1</td>\n",
       "      <td>0</td>\n",
       "      <td>10558.0</td>\n",
       "      <td>train</td>\n",
       "    </tr>\n",
       "  </tbody>\n",
       "</table>\n",
       "<p>5 rows × 22 columns</p>\n",
       "</div>"
      ],
      "text/plain": [
       "   battery_power  blue  clock_speed  dual_sim  fc  four_g  int_memory  m_dep  \\\n",
       "0            842     0          2.2         0   1       0           7    0.6   \n",
       "1           1021     1          0.5         1   0       1          53    0.7   \n",
       "2            563     1          0.5         1   2       1          41    0.9   \n",
       "3            615     1          2.5         0   0       0          10    0.8   \n",
       "4           1821     1          1.2         0  13       1          44    0.6   \n",
       "\n",
       "   mobile_wt  n_cores  ...  px_width   ram  sc_h  sc_w  talk_time  three_g  \\\n",
       "0        188        2  ...       756  2549     9     7         19        0   \n",
       "1        136        3  ...      1988  2631    17     3          7        1   \n",
       "2        145        5  ...      1716  2603    11     2          9        1   \n",
       "3        131        6  ...      1786  2769    16     8         11        1   \n",
       "4        141        2  ...      1212  1411     8     2         15        1   \n",
       "\n",
       "   touch_screen  wifi    price   type  \n",
       "0             0     1  11031.0  train  \n",
       "1             1     0  15456.0  train  \n",
       "2             1     0  15531.0  train  \n",
       "3             0     0  14718.0  train  \n",
       "4             1     0  10558.0  train  \n",
       "\n",
       "[5 rows x 22 columns]"
      ]
     },
     "execution_count": 13,
     "metadata": {},
     "output_type": "execute_result"
    }
   ],
   "source": [
    "data.head()"
   ]
  },
  {
   "cell_type": "code",
   "execution_count": 14,
   "metadata": {},
   "outputs": [
    {
     "data": {
      "text/plain": [
       "battery_power      int64\n",
       "blue               int64\n",
       "clock_speed      float64\n",
       "dual_sim           int64\n",
       "fc                 int64\n",
       "four_g             int64\n",
       "int_memory         int64\n",
       "m_dep            float64\n",
       "mobile_wt          int64\n",
       "n_cores            int64\n",
       "pc                 int64\n",
       "px_height          int64\n",
       "px_width           int64\n",
       "ram                int64\n",
       "sc_h               int64\n",
       "sc_w               int64\n",
       "talk_time          int64\n",
       "three_g            int64\n",
       "touch_screen       int64\n",
       "wifi               int64\n",
       "price            float64\n",
       "type              object\n",
       "dtype: object"
      ]
     },
     "execution_count": 14,
     "metadata": {},
     "output_type": "execute_result"
    }
   ],
   "source": [
    "data.dtypes"
   ]
  },
  {
   "cell_type": "code",
   "execution_count": 15,
   "metadata": {},
   "outputs": [],
   "source": [
    "catcols = ['blue','dual_sim','four_g','three_g','touch_screen','wifi']"
   ]
  },
  {
   "cell_type": "code",
   "execution_count": 16,
   "metadata": {},
   "outputs": [],
   "source": [
    "for x in catcols:\n",
    "    data[x]= data[x].map({0:'no',1:'yes'})"
   ]
  },
  {
   "cell_type": "code",
   "execution_count": 17,
   "metadata": {},
   "outputs": [
    {
     "data": {
      "text/plain": [
       "battery_power      int64\n",
       "blue              object\n",
       "clock_speed      float64\n",
       "dual_sim          object\n",
       "fc                 int64\n",
       "four_g            object\n",
       "int_memory         int64\n",
       "m_dep            float64\n",
       "mobile_wt          int64\n",
       "n_cores            int64\n",
       "pc                 int64\n",
       "px_height          int64\n",
       "px_width           int64\n",
       "ram                int64\n",
       "sc_h               int64\n",
       "sc_w               int64\n",
       "talk_time          int64\n",
       "three_g           object\n",
       "touch_screen      object\n",
       "wifi              object\n",
       "price            float64\n",
       "type              object\n",
       "dtype: object"
      ]
     },
     "execution_count": 17,
     "metadata": {},
     "output_type": "execute_result"
    }
   ],
   "source": [
    "data.dtypes"
   ]
  },
  {
   "cell_type": "code",
   "execution_count": 18,
   "metadata": {},
   "outputs": [
    {
     "data": {
      "text/plain": [
       "battery_power       0\n",
       "blue                0\n",
       "clock_speed         0\n",
       "dual_sim            0\n",
       "fc                  0\n",
       "four_g              0\n",
       "int_memory          0\n",
       "m_dep               0\n",
       "mobile_wt           0\n",
       "n_cores             0\n",
       "pc                  0\n",
       "px_height           0\n",
       "px_width            0\n",
       "ram                 0\n",
       "sc_h                0\n",
       "sc_w                0\n",
       "talk_time           0\n",
       "three_g             0\n",
       "touch_screen        0\n",
       "wifi                0\n",
       "price            1000\n",
       "type                0\n",
       "dtype: int64"
      ]
     },
     "execution_count": 18,
     "metadata": {},
     "output_type": "execute_result"
    }
   ],
   "source": [
    "data.isnull().sum()"
   ]
  },
  {
   "cell_type": "code",
   "execution_count": 19,
   "metadata": {},
   "outputs": [],
   "source": [
    "data = pd.get_dummies(data)"
   ]
  },
  {
   "cell_type": "code",
   "execution_count": 20,
   "metadata": {},
   "outputs": [
    {
     "data": {
      "text/plain": [
       "battery_power         int64\n",
       "clock_speed         float64\n",
       "fc                    int64\n",
       "int_memory            int64\n",
       "m_dep               float64\n",
       "mobile_wt             int64\n",
       "n_cores               int64\n",
       "pc                    int64\n",
       "px_height             int64\n",
       "px_width              int64\n",
       "ram                   int64\n",
       "sc_h                  int64\n",
       "sc_w                  int64\n",
       "talk_time             int64\n",
       "price               float64\n",
       "blue_no               uint8\n",
       "blue_yes              uint8\n",
       "dual_sim_no           uint8\n",
       "dual_sim_yes          uint8\n",
       "four_g_no             uint8\n",
       "four_g_yes            uint8\n",
       "three_g_no            uint8\n",
       "three_g_yes           uint8\n",
       "touch_screen_no       uint8\n",
       "touch_screen_yes      uint8\n",
       "wifi_no               uint8\n",
       "wifi_yes              uint8\n",
       "type_test             uint8\n",
       "type_train            uint8\n",
       "dtype: object"
      ]
     },
     "execution_count": 20,
     "metadata": {},
     "output_type": "execute_result"
    }
   ],
   "source": [
    "data.dtypes"
   ]
  },
  {
   "cell_type": "code",
   "execution_count": 21,
   "metadata": {},
   "outputs": [
    {
     "data": {
      "text/plain": [
       "(3000, 29)"
      ]
     },
     "execution_count": 21,
     "metadata": {},
     "output_type": "execute_result"
    }
   ],
   "source": [
    "data.shape"
   ]
  },
  {
   "cell_type": "code",
   "execution_count": 22,
   "metadata": {},
   "outputs": [
    {
     "data": {
      "text/plain": [
       "Index(['clock_speed', 'm_dep', 'price'], dtype='object')"
      ]
     },
     "execution_count": 22,
     "metadata": {},
     "output_type": "execute_result"
    }
   ],
   "source": [
    "float_columns = data.dtypes[(data.dtypes=='float64')].index\n",
    "float_columns"
   ]
  },
  {
   "cell_type": "code",
   "execution_count": 23,
   "metadata": {},
   "outputs": [
    {
     "data": {
      "text/plain": [
       "Index(['battery_power', 'fc', 'int_memory', 'mobile_wt', 'n_cores', 'pc',\n",
       "       'px_height', 'px_width', 'ram', 'sc_h', 'sc_w', 'talk_time'],\n",
       "      dtype='object')"
      ]
     },
     "execution_count": 23,
     "metadata": {},
     "output_type": "execute_result"
    }
   ],
   "source": [
    "int_columns = data.dtypes[(data.dtypes=='int64')].index\n",
    "int_columns"
   ]
  },
  {
   "cell_type": "code",
   "execution_count": 24,
   "metadata": {},
   "outputs": [
    {
     "data": {
      "image/png": "[encoded data removed]",
      "text/plain": [
       "<Figure size 432x288 with 1 Axes>"
      ]
     },
     "metadata": {
      "needs_background": "light"
     },
     "output_type": "display_data"
    }
   ],
   "source": [
    "#checking for outliers in integer columns\n",
    "import numpy as np\n",
    "import matplotlib.pyplot as plt\n",
    "fig = plt.figure()\n",
    "ax = plt.subplot(111)\n",
    "i=0\n",
    "for x in int_columns:\n",
    "    ax.boxplot(data[x], positions = [i])\n",
    "    i+=1\n",
    "ax.set_xlim(-0.5, 9.5)\n",
    "plt.show()"
   ]
  },
  {
   "cell_type": "code",
   "execution_count": 25,
   "metadata": {},
   "outputs": [
    {
     "name": "stderr",
     "output_type": "stream",
     "text": [
      "/home/student/.local/lib/python3.6/site-packages/ipykernel_launcher.py:8: SettingWithCopyWarning: \n",
      "A value is trying to be set on a copy of a slice from a DataFrame\n",
      "\n",
      "See the caveats in the documentation: https://pandas.pydata.org/pandas-docs/stable/user_guide/indexing.html#returning-a-view-versus-a-copy\n",
      "  \n",
      "/home/student/.local/lib/python3.6/site-packages/ipykernel_launcher.py:9: SettingWithCopyWarning: \n",
      "A value is trying to be set on a copy of a slice from a DataFrame\n",
      "\n",
      "See the caveats in the documentation: https://pandas.pydata.org/pandas-docs/stable/user_guide/indexing.html#returning-a-view-versus-a-copy\n",
      "  if __name__ == '__main__':\n",
      "/home/student/.local/lib/python3.6/site-packages/ipykernel_launcher.py:8: SettingWithCopyWarning: \n",
      "A value is trying to be set on a copy of a slice from a DataFrame\n",
      "\n",
      "See the caveats in the documentation: https://pandas.pydata.org/pandas-docs/stable/user_guide/indexing.html#returning-a-view-versus-a-copy\n",
      "  \n",
      "/home/student/.local/lib/python3.6/site-packages/ipykernel_launcher.py:9: SettingWithCopyWarning: \n",
      "A value is trying to be set on a copy of a slice from a DataFrame\n",
      "\n",
      "See the caveats in the documentation: https://pandas.pydata.org/pandas-docs/stable/user_guide/indexing.html#returning-a-view-versus-a-copy\n",
      "  if __name__ == '__main__':\n",
      "/home/student/.local/lib/python3.6/site-packages/ipykernel_launcher.py:8: SettingWithCopyWarning: \n",
      "A value is trying to be set on a copy of a slice from a DataFrame\n",
      "\n",
      "See the caveats in the documentation: https://pandas.pydata.org/pandas-docs/stable/user_guide/indexing.html#returning-a-view-versus-a-copy\n",
      "  \n",
      "/home/student/.local/lib/python3.6/site-packages/ipykernel_launcher.py:9: SettingWithCopyWarning: \n",
      "A value is trying to be set on a copy of a slice from a DataFrame\n",
      "\n",
      "See the caveats in the documentation: https://pandas.pydata.org/pandas-docs/stable/user_guide/indexing.html#returning-a-view-versus-a-copy\n",
      "  if __name__ == '__main__':\n"
     ]
    }
   ],
   "source": [
    "#removing the outliers in integer columns\n",
    "for x in int_columns:\n",
    "    q1=data[x].quantile(.25)\n",
    "    q3=data[x].quantile(.75)\n",
    "    iqr = q3-q1\n",
    "    ul = q3+ 1.5 * iqr\n",
    "    ll = q1- 1.5 * iqr\n",
    "    data[x][data[x]>ul] = ul\n",
    "    data[x][data[x]<ll] = ll"
   ]
  },
  {
   "cell_type": "code",
   "execution_count": 26,
   "metadata": {},
   "outputs": [
    {
     "data": {
      "image/png": "[encoded data removed]",
      "text/plain": [
       "<Figure size 432x288 with 1 Axes>"
      ]
     },
     "metadata": {
      "needs_background": "light"
     },
     "output_type": "display_data"
    }
   ],
   "source": [
    "#checking for outliers again in integer columns\n",
    "import numpy as np\n",
    "fig = plt.figure()\n",
    "ax = plt.subplot(111)\n",
    "i=0\n",
    "for x in int_columns:\n",
    "    ax.boxplot(data[x], positions = [i])\n",
    "    i+=1\n",
    "ax.set_xlim(-0.5, 9.5)\n",
    "plt.show()"
   ]
  },
  {
   "cell_type": "code",
   "execution_count": 27,
   "metadata": {},
   "outputs": [
    {
     "name": "stderr",
     "output_type": "stream",
     "text": [
      "/home/student/.local/lib/python3.6/site-packages/ipykernel_launcher.py:8: SettingWithCopyWarning: \n",
      "A value is trying to be set on a copy of a slice from a DataFrame\n",
      "\n",
      "See the caveats in the documentation: https://pandas.pydata.org/pandas-docs/stable/user_guide/indexing.html#returning-a-view-versus-a-copy\n",
      "  \n",
      "/home/student/.local/lib/python3.6/site-packages/ipykernel_launcher.py:9: SettingWithCopyWarning: \n",
      "A value is trying to be set on a copy of a slice from a DataFrame\n",
      "\n",
      "See the caveats in the documentation: https://pandas.pydata.org/pandas-docs/stable/user_guide/indexing.html#returning-a-view-versus-a-copy\n",
      "  if __name__ == '__main__':\n"
     ]
    }
   ],
   "source": [
    "#Removing outliers in float columns\n",
    "for x in float_columns:\n",
    "    q1=data[x].quantile(.25)\n",
    "    q3=data[x].quantile(.75)\n",
    "    iqr = q3-q1\n",
    "    ul = q3+ 1.5 * iqr\n",
    "    ll = q1- 1.5 * iqr\n",
    "    data[x][data[x]>ul] = ul\n",
    "    data[x][data[x]<ll] = ll"
   ]
  },
  {
   "cell_type": "code",
   "execution_count": 28,
   "metadata": {},
   "outputs": [
    {
     "name": "stderr",
     "output_type": "stream",
     "text": [
      "/home/student/.local/lib/python3.6/site-packages/matplotlib/cbook/__init__.py:1239: RuntimeWarning: invalid value encountered in less_equal\n",
      "  wiskhi = x[x <= hival]\n",
      "/home/student/.local/lib/python3.6/site-packages/matplotlib/cbook/__init__.py:1246: RuntimeWarning: invalid value encountered in greater_equal\n",
      "  wisklo = x[x >= loval]\n",
      "/home/student/.local/lib/python3.6/site-packages/matplotlib/cbook/__init__.py:1254: RuntimeWarning: invalid value encountered in less\n",
      "  x[x < stats['whislo']],\n",
      "/home/student/.local/lib/python3.6/site-packages/matplotlib/cbook/__init__.py:1255: RuntimeWarning: invalid value encountered in greater\n",
      "  x[x > stats['whishi']],\n"
     ]
    },
    {
     "data": {
      "image/png": "[encoded data removed]",
      "text/plain": [
       "<Figure size 432x288 with 1 Axes>"
      ]
     },
     "metadata": {
      "needs_background": "light"
     },
     "output_type": "display_data"
    }
   ],
   "source": [
    "#checking for outliers in float columns again\n",
    "import numpy as np\n",
    "fig = plt.figure()\n",
    "ax = plt.subplot(111)\n",
    "i=0\n",
    "for x in float_columns:\n",
    "    ax.boxplot(data[x], positions = [i])\n",
    "    i+=1\n",
    "ax.set_xlim(-0.5, 9.5)\n",
    "plt.show()"
   ]
  },
  {
   "cell_type": "code",
   "execution_count": 52,
   "metadata": {},
   "outputs": [
    {
     "data": {
      "text/html": [
       "<div>\n",
       "<style scoped>\n",
       "    .dataframe tbody tr th:only-of-type {\n",
       "        vertical-align: middle;\n",
       "    }\n",
       "\n",
       "    .dataframe tbody tr th {\n",
       "        vertical-align: top;\n",
       "    }\n",
       "\n",
       "    .dataframe thead th {\n",
       "        text-align: right;\n",
       "    }\n",
       "</style>\n",
       "<table border=\"1\" class=\"dataframe\">\n",
       "  <thead>\n",
       "    <tr style=\"text-align: right;\">\n",
       "      <th></th>\n",
       "      <th>battery_power</th>\n",
       "      <th>clock_speed</th>\n",
       "      <th>fc</th>\n",
       "      <th>int_memory</th>\n",
       "      <th>m_dep</th>\n",
       "      <th>mobile_wt</th>\n",
       "      <th>n_cores</th>\n",
       "      <th>pc</th>\n",
       "      <th>px_height</th>\n",
       "      <th>px_width</th>\n",
       "      <th>...</th>\n",
       "      <th>four_g_no</th>\n",
       "      <th>four_g_yes</th>\n",
       "      <th>three_g_no</th>\n",
       "      <th>three_g_yes</th>\n",
       "      <th>touch_screen_no</th>\n",
       "      <th>touch_screen_yes</th>\n",
       "      <th>wifi_no</th>\n",
       "      <th>wifi_yes</th>\n",
       "      <th>type_test</th>\n",
       "      <th>type_train</th>\n",
       "    </tr>\n",
       "  </thead>\n",
       "  <tbody>\n",
       "    <tr>\n",
       "      <th>battery_power</th>\n",
       "      <td>1.000000</td>\n",
       "      <td>-0.005250</td>\n",
       "      <td>0.018777</td>\n",
       "      <td>-0.000998</td>\n",
       "      <td>0.020382</td>\n",
       "      <td>-0.014217</td>\n",
       "      <td>-0.011859</td>\n",
       "      <td>0.025401</td>\n",
       "      <td>0.025622</td>\n",
       "      <td>0.012056</td>\n",
       "      <td>...</td>\n",
       "      <td>0.003877</td>\n",
       "      <td>-0.003877</td>\n",
       "      <td>-0.018081</td>\n",
       "      <td>0.018081</td>\n",
       "      <td>0.010421</td>\n",
       "      <td>-0.010421</td>\n",
       "      <td>5.728108e-03</td>\n",
       "      <td>-5.728108e-03</td>\n",
       "      <td>1.077834e-02</td>\n",
       "      <td>-1.077834e-02</td>\n",
       "    </tr>\n",
       "    <tr>\n",
       "      <th>clock_speed</th>\n",
       "      <td>-0.005250</td>\n",
       "      <td>1.000000</td>\n",
       "      <td>0.003436</td>\n",
       "      <td>-0.005467</td>\n",
       "      <td>-0.003707</td>\n",
       "      <td>0.003424</td>\n",
       "      <td>-0.008339</td>\n",
       "      <td>0.012682</td>\n",
       "      <td>-0.004159</td>\n",
       "      <td>0.017658</td>\n",
       "      <td>...</td>\n",
       "      <td>0.037196</td>\n",
       "      <td>-0.037196</td>\n",
       "      <td>0.038021</td>\n",
       "      <td>-0.038021</td>\n",
       "      <td>-0.033917</td>\n",
       "      <td>0.033917</td>\n",
       "      <td>3.259424e-02</td>\n",
       "      <td>-3.259424e-02</td>\n",
       "      <td>1.071869e-02</td>\n",
       "      <td>-1.071869e-02</td>\n",
       "    </tr>\n",
       "    <tr>\n",
       "      <th>fc</th>\n",
       "      <td>0.018777</td>\n",
       "      <td>0.003436</td>\n",
       "      <td>1.000000</td>\n",
       "      <td>-0.020321</td>\n",
       "      <td>0.006233</td>\n",
       "      <td>0.021287</td>\n",
       "      <td>-0.002092</td>\n",
       "      <td>0.650961</td>\n",
       "      <td>-0.014133</td>\n",
       "      <td>0.005890</td>\n",
       "      <td>...</td>\n",
       "      <td>0.002008</td>\n",
       "      <td>-0.002008</td>\n",
       "      <td>0.003768</td>\n",
       "      <td>-0.003768</td>\n",
       "      <td>0.004902</td>\n",
       "      <td>-0.004902</td>\n",
       "      <td>7.331673e-03</td>\n",
       "      <td>-7.331673e-03</td>\n",
       "      <td>2.953062e-02</td>\n",
       "      <td>-2.953062e-02</td>\n",
       "    </tr>\n",
       "    <tr>\n",
       "      <th>int_memory</th>\n",
       "      <td>-0.000998</td>\n",
       "      <td>-0.005467</td>\n",
       "      <td>-0.020321</td>\n",
       "      <td>1.000000</td>\n",
       "      <td>0.004277</td>\n",
       "      <td>-0.026769</td>\n",
       "      <td>-0.013321</td>\n",
       "      <td>-0.014118</td>\n",
       "      <td>0.003035</td>\n",
       "      <td>-0.007357</td>\n",
       "      <td>...</td>\n",
       "      <td>0.008044</td>\n",
       "      <td>-0.008044</td>\n",
       "      <td>0.011804</td>\n",
       "      <td>-0.011804</td>\n",
       "      <td>0.010725</td>\n",
       "      <td>-0.010725</td>\n",
       "      <td>-8.606455e-03</td>\n",
       "      <td>8.606455e-03</td>\n",
       "      <td>4.169967e-02</td>\n",
       "      <td>-4.169967e-02</td>\n",
       "    </tr>\n",
       "    <tr>\n",
       "      <th>m_dep</th>\n",
       "      <td>0.020382</td>\n",
       "      <td>-0.003707</td>\n",
       "      <td>0.006233</td>\n",
       "      <td>0.004277</td>\n",
       "      <td>1.000000</td>\n",
       "      <td>0.000849</td>\n",
       "      <td>-0.000093</td>\n",
       "      <td>0.022075</td>\n",
       "      <td>0.036740</td>\n",
       "      <td>0.026959</td>\n",
       "      <td>...</td>\n",
       "      <td>-0.002775</td>\n",
       "      <td>0.002775</td>\n",
       "      <td>0.017879</td>\n",
       "      <td>-0.017879</td>\n",
       "      <td>-0.011327</td>\n",
       "      <td>0.011327</td>\n",
       "      <td>3.205625e-02</td>\n",
       "      <td>-3.205625e-02</td>\n",
       "      <td>2.596736e-02</td>\n",
       "      <td>-2.596736e-02</td>\n",
       "    </tr>\n",
       "    <tr>\n",
       "      <th>mobile_wt</th>\n",
       "      <td>-0.014217</td>\n",
       "      <td>0.003424</td>\n",
       "      <td>0.021287</td>\n",
       "      <td>-0.026769</td>\n",
       "      <td>0.000849</td>\n",
       "      <td>1.000000</td>\n",
       "      <td>-0.025144</td>\n",
       "      <td>0.021547</td>\n",
       "      <td>0.004504</td>\n",
       "      <td>-0.004675</td>\n",
       "      <td>...</td>\n",
       "      <td>0.010920</td>\n",
       "      <td>-0.010920</td>\n",
       "      <td>-0.003172</td>\n",
       "      <td>0.003172</td>\n",
       "      <td>-0.005084</td>\n",
       "      <td>0.005084</td>\n",
       "      <td>-2.273265e-02</td>\n",
       "      <td>2.273265e-02</td>\n",
       "      <td>-9.881196e-03</td>\n",
       "      <td>9.881196e-03</td>\n",
       "    </tr>\n",
       "    <tr>\n",
       "      <th>n_cores</th>\n",
       "      <td>-0.011859</td>\n",
       "      <td>-0.008339</td>\n",
       "      <td>-0.002092</td>\n",
       "      <td>-0.013321</td>\n",
       "      <td>-0.000093</td>\n",
       "      <td>-0.025144</td>\n",
       "      <td>1.000000</td>\n",
       "      <td>0.003587</td>\n",
       "      <td>-0.021720</td>\n",
       "      <td>-0.003281</td>\n",
       "      <td>...</td>\n",
       "      <td>-0.003732</td>\n",
       "      <td>0.003732</td>\n",
       "      <td>-0.007503</td>\n",
       "      <td>0.007503</td>\n",
       "      <td>-0.010416</td>\n",
       "      <td>0.010416</td>\n",
       "      <td>9.053830e-03</td>\n",
       "      <td>-9.053830e-03</td>\n",
       "      <td>-3.964447e-02</td>\n",
       "      <td>3.964447e-02</td>\n",
       "    </tr>\n",
       "    <tr>\n",
       "      <th>pc</th>\n",
       "      <td>0.025401</td>\n",
       "      <td>0.012682</td>\n",
       "      <td>0.650961</td>\n",
       "      <td>-0.014118</td>\n",
       "      <td>0.022075</td>\n",
       "      <td>0.021547</td>\n",
       "      <td>0.003587</td>\n",
       "      <td>1.000000</td>\n",
       "      <td>-0.003028</td>\n",
       "      <td>0.021710</td>\n",
       "      <td>...</td>\n",
       "      <td>-0.008524</td>\n",
       "      <td>0.008524</td>\n",
       "      <td>0.006058</td>\n",
       "      <td>-0.006058</td>\n",
       "      <td>-0.001507</td>\n",
       "      <td>0.001507</td>\n",
       "      <td>1.478942e-02</td>\n",
       "      <td>-1.478942e-02</td>\n",
       "      <td>1.067332e-02</td>\n",
       "      <td>-1.067332e-02</td>\n",
       "    </tr>\n",
       "    <tr>\n",
       "      <th>px_height</th>\n",
       "      <td>0.025622</td>\n",
       "      <td>-0.004159</td>\n",
       "      <td>-0.014133</td>\n",
       "      <td>0.003035</td>\n",
       "      <td>0.036740</td>\n",
       "      <td>0.004504</td>\n",
       "      <td>-0.021720</td>\n",
       "      <td>-0.003028</td>\n",
       "      <td>1.000000</td>\n",
       "      <td>0.512979</td>\n",
       "      <td>...</td>\n",
       "      <td>0.001319</td>\n",
       "      <td>-0.001319</td>\n",
       "      <td>0.024483</td>\n",
       "      <td>-0.024483</td>\n",
       "      <td>-0.008320</td>\n",
       "      <td>0.008320</td>\n",
       "      <td>-3.069456e-02</td>\n",
       "      <td>3.069456e-02</td>\n",
       "      <td>-1.922319e-02</td>\n",
       "      <td>1.922319e-02</td>\n",
       "    </tr>\n",
       "    <tr>\n",
       "      <th>px_width</th>\n",
       "      <td>0.012056</td>\n",
       "      <td>0.017658</td>\n",
       "      <td>0.005890</td>\n",
       "      <td>-0.007357</td>\n",
       "      <td>0.026959</td>\n",
       "      <td>-0.004675</td>\n",
       "      <td>-0.003281</td>\n",
       "      <td>0.021710</td>\n",
       "      <td>0.512979</td>\n",
       "      <td>1.000000</td>\n",
       "      <td>...</td>\n",
       "      <td>-0.017664</td>\n",
       "      <td>0.017664</td>\n",
       "      <td>-0.006894</td>\n",
       "      <td>0.006894</td>\n",
       "      <td>0.014521</td>\n",
       "      <td>-0.014521</td>\n",
       "      <td>4.845053e-03</td>\n",
       "      <td>-4.845053e-03</td>\n",
       "      <td>-1.273602e-02</td>\n",
       "      <td>1.273602e-02</td>\n",
       "    </tr>\n",
       "    <tr>\n",
       "      <th>ram</th>\n",
       "      <td>-0.011059</td>\n",
       "      <td>0.002130</td>\n",
       "      <td>-0.006774</td>\n",
       "      <td>0.019742</td>\n",
       "      <td>-0.000154</td>\n",
       "      <td>0.007720</td>\n",
       "      <td>-0.011279</td>\n",
       "      <td>0.003934</td>\n",
       "      <td>-0.004614</td>\n",
       "      <td>-0.006271</td>\n",
       "      <td>...</td>\n",
       "      <td>-0.014950</td>\n",
       "      <td>0.014950</td>\n",
       "      <td>-0.020427</td>\n",
       "      <td>0.020427</td>\n",
       "      <td>0.034880</td>\n",
       "      <td>-0.034880</td>\n",
       "      <td>-4.443208e-03</td>\n",
       "      <td>4.443208e-03</td>\n",
       "      <td>6.420664e-03</td>\n",
       "      <td>-6.420664e-03</td>\n",
       "    </tr>\n",
       "    <tr>\n",
       "      <th>sc_h</th>\n",
       "      <td>-0.038917</td>\n",
       "      <td>-0.032997</td>\n",
       "      <td>0.008653</td>\n",
       "      <td>0.020374</td>\n",
       "      <td>-0.026484</td>\n",
       "      <td>-0.029531</td>\n",
       "      <td>-0.010362</td>\n",
       "      <td>0.009594</td>\n",
       "      <td>0.044023</td>\n",
       "      <td>0.006884</td>\n",
       "      <td>...</td>\n",
       "      <td>-0.013950</td>\n",
       "      <td>0.013950</td>\n",
       "      <td>-0.001491</td>\n",
       "      <td>0.001491</td>\n",
       "      <td>0.017758</td>\n",
       "      <td>-0.017758</td>\n",
       "      <td>-1.611661e-02</td>\n",
       "      <td>1.611661e-02</td>\n",
       "      <td>-3.454758e-02</td>\n",
       "      <td>3.454758e-02</td>\n",
       "    </tr>\n",
       "    <tr>\n",
       "      <th>sc_w</th>\n",
       "      <td>-0.022727</td>\n",
       "      <td>-0.014421</td>\n",
       "      <td>-0.006526</td>\n",
       "      <td>0.013828</td>\n",
       "      <td>-0.021243</td>\n",
       "      <td>-0.006372</td>\n",
       "      <td>0.023479</td>\n",
       "      <td>-0.018572</td>\n",
       "      <td>0.043978</td>\n",
       "      <td>0.025355</td>\n",
       "      <td>...</td>\n",
       "      <td>-0.026152</td>\n",
       "      <td>0.026152</td>\n",
       "      <td>-0.021411</td>\n",
       "      <td>0.021411</td>\n",
       "      <td>0.006895</td>\n",
       "      <td>-0.006895</td>\n",
       "      <td>-2.885673e-02</td>\n",
       "      <td>2.885673e-02</td>\n",
       "      <td>-4.919357e-02</td>\n",
       "      <td>4.919357e-02</td>\n",
       "    </tr>\n",
       "    <tr>\n",
       "      <th>talk_time</th>\n",
       "      <td>0.040337</td>\n",
       "      <td>-0.034143</td>\n",
       "      <td>-0.021554</td>\n",
       "      <td>0.006348</td>\n",
       "      <td>0.019500</td>\n",
       "      <td>-0.003097</td>\n",
       "      <td>0.006603</td>\n",
       "      <td>-0.003098</td>\n",
       "      <td>0.009926</td>\n",
       "      <td>0.022441</td>\n",
       "      <td>...</td>\n",
       "      <td>0.026627</td>\n",
       "      <td>-0.026627</td>\n",
       "      <td>0.028973</td>\n",
       "      <td>-0.028973</td>\n",
       "      <td>-0.021106</td>\n",
       "      <td>0.021106</td>\n",
       "      <td>1.403862e-02</td>\n",
       "      <td>-1.403862e-02</td>\n",
       "      <td>6.373256e-03</td>\n",
       "      <td>-6.373256e-03</td>\n",
       "    </tr>\n",
       "    <tr>\n",
       "      <th>price</th>\n",
       "      <td>0.181707</td>\n",
       "      <td>-0.003853</td>\n",
       "      <td>0.024135</td>\n",
       "      <td>0.044626</td>\n",
       "      <td>-0.002114</td>\n",
       "      <td>-0.034670</td>\n",
       "      <td>0.003822</td>\n",
       "      <td>0.034623</td>\n",
       "      <td>0.130953</td>\n",
       "      <td>0.147995</td>\n",
       "      <td>...</td>\n",
       "      <td>-0.014333</td>\n",
       "      <td>0.014333</td>\n",
       "      <td>-0.023047</td>\n",
       "      <td>0.023047</td>\n",
       "      <td>0.032226</td>\n",
       "      <td>-0.032226</td>\n",
       "      <td>-2.106037e-02</td>\n",
       "      <td>2.106037e-02</td>\n",
       "      <td>NaN</td>\n",
       "      <td>NaN</td>\n",
       "    </tr>\n",
       "    <tr>\n",
       "      <th>blue_no</th>\n",
       "      <td>0.007606</td>\n",
       "      <td>-0.026114</td>\n",
       "      <td>0.016151</td>\n",
       "      <td>-0.024133</td>\n",
       "      <td>-0.009229</td>\n",
       "      <td>-0.001789</td>\n",
       "      <td>-0.024396</td>\n",
       "      <td>0.014850</td>\n",
       "      <td>0.024332</td>\n",
       "      <td>0.038579</td>\n",
       "      <td>...</td>\n",
       "      <td>0.007922</td>\n",
       "      <td>-0.007922</td>\n",
       "      <td>-0.015693</td>\n",
       "      <td>0.015693</td>\n",
       "      <td>-0.013350</td>\n",
       "      <td>0.013350</td>\n",
       "      <td>-6.056642e-03</td>\n",
       "      <td>6.056642e-03</td>\n",
       "      <td>-1.979915e-02</td>\n",
       "      <td>1.979915e-02</td>\n",
       "    </tr>\n",
       "    <tr>\n",
       "      <th>blue_yes</th>\n",
       "      <td>-0.007606</td>\n",
       "      <td>0.026114</td>\n",
       "      <td>-0.016151</td>\n",
       "      <td>0.024133</td>\n",
       "      <td>0.009229</td>\n",
       "      <td>0.001789</td>\n",
       "      <td>0.024396</td>\n",
       "      <td>-0.014850</td>\n",
       "      <td>-0.024332</td>\n",
       "      <td>-0.038579</td>\n",
       "      <td>...</td>\n",
       "      <td>-0.007922</td>\n",
       "      <td>0.007922</td>\n",
       "      <td>0.015693</td>\n",
       "      <td>-0.015693</td>\n",
       "      <td>0.013350</td>\n",
       "      <td>-0.013350</td>\n",
       "      <td>6.056642e-03</td>\n",
       "      <td>-6.056642e-03</td>\n",
       "      <td>1.979915e-02</td>\n",
       "      <td>-1.979915e-02</td>\n",
       "    </tr>\n",
       "    <tr>\n",
       "      <th>dual_sim_no</th>\n",
       "      <td>0.048135</td>\n",
       "      <td>0.004980</td>\n",
       "      <td>0.000206</td>\n",
       "      <td>0.014199</td>\n",
       "      <td>0.007585</td>\n",
       "      <td>0.006660</td>\n",
       "      <td>0.017750</td>\n",
       "      <td>-0.013381</td>\n",
       "      <td>0.011913</td>\n",
       "      <td>-0.014643</td>\n",
       "      <td>...</td>\n",
       "      <td>0.010192</td>\n",
       "      <td>-0.010192</td>\n",
       "      <td>-0.009127</td>\n",
       "      <td>0.009127</td>\n",
       "      <td>-0.000096</td>\n",
       "      <td>0.000096</td>\n",
       "      <td>2.567391e-02</td>\n",
       "      <td>-2.567391e-02</td>\n",
       "      <td>-7.073105e-03</td>\n",
       "      <td>7.073105e-03</td>\n",
       "    </tr>\n",
       "    <tr>\n",
       "      <th>dual_sim_yes</th>\n",
       "      <td>-0.048135</td>\n",
       "      <td>-0.004980</td>\n",
       "      <td>-0.000206</td>\n",
       "      <td>-0.014199</td>\n",
       "      <td>-0.007585</td>\n",
       "      <td>-0.006660</td>\n",
       "      <td>-0.017750</td>\n",
       "      <td>0.013381</td>\n",
       "      <td>-0.011913</td>\n",
       "      <td>0.014643</td>\n",
       "      <td>...</td>\n",
       "      <td>-0.010192</td>\n",
       "      <td>0.010192</td>\n",
       "      <td>0.009127</td>\n",
       "      <td>-0.009127</td>\n",
       "      <td>0.000096</td>\n",
       "      <td>-0.000096</td>\n",
       "      <td>-2.567391e-02</td>\n",
       "      <td>2.567391e-02</td>\n",
       "      <td>7.073105e-03</td>\n",
       "      <td>-7.073105e-03</td>\n",
       "    </tr>\n",
       "    <tr>\n",
       "      <th>four_g_no</th>\n",
       "      <td>0.003877</td>\n",
       "      <td>0.037196</td>\n",
       "      <td>0.002008</td>\n",
       "      <td>0.008044</td>\n",
       "      <td>-0.002775</td>\n",
       "      <td>0.010920</td>\n",
       "      <td>-0.003732</td>\n",
       "      <td>-0.008524</td>\n",
       "      <td>0.001319</td>\n",
       "      <td>-0.017664</td>\n",
       "      <td>...</td>\n",
       "      <td>1.000000</td>\n",
       "      <td>-1.000000</td>\n",
       "      <td>0.573829</td>\n",
       "      <td>-0.573829</td>\n",
       "      <td>0.007922</td>\n",
       "      <td>-0.007922</td>\n",
       "      <td>-2.362037e-02</td>\n",
       "      <td>2.362037e-02</td>\n",
       "      <td>3.253342e-02</td>\n",
       "      <td>-3.253342e-02</td>\n",
       "    </tr>\n",
       "    <tr>\n",
       "      <th>four_g_yes</th>\n",
       "      <td>-0.003877</td>\n",
       "      <td>-0.037196</td>\n",
       "      <td>-0.002008</td>\n",
       "      <td>-0.008044</td>\n",
       "      <td>0.002775</td>\n",
       "      <td>-0.010920</td>\n",
       "      <td>0.003732</td>\n",
       "      <td>0.008524</td>\n",
       "      <td>-0.001319</td>\n",
       "      <td>0.017664</td>\n",
       "      <td>...</td>\n",
       "      <td>-1.000000</td>\n",
       "      <td>1.000000</td>\n",
       "      <td>-0.573829</td>\n",
       "      <td>0.573829</td>\n",
       "      <td>-0.007922</td>\n",
       "      <td>0.007922</td>\n",
       "      <td>2.362037e-02</td>\n",
       "      <td>-2.362037e-02</td>\n",
       "      <td>-3.253342e-02</td>\n",
       "      <td>3.253342e-02</td>\n",
       "    </tr>\n",
       "    <tr>\n",
       "      <th>three_g_no</th>\n",
       "      <td>-0.018081</td>\n",
       "      <td>0.038021</td>\n",
       "      <td>0.003768</td>\n",
       "      <td>0.011804</td>\n",
       "      <td>0.017879</td>\n",
       "      <td>-0.003172</td>\n",
       "      <td>-0.007503</td>\n",
       "      <td>0.006058</td>\n",
       "      <td>0.024483</td>\n",
       "      <td>-0.006894</td>\n",
       "      <td>...</td>\n",
       "      <td>0.573829</td>\n",
       "      <td>-0.573829</td>\n",
       "      <td>1.000000</td>\n",
       "      <td>-1.000000</td>\n",
       "      <td>0.009271</td>\n",
       "      <td>-0.009271</td>\n",
       "      <td>-5.388022e-03</td>\n",
       "      <td>5.388022e-03</td>\n",
       "      <td>6.067893e-03</td>\n",
       "      <td>-6.067893e-03</td>\n",
       "    </tr>\n",
       "    <tr>\n",
       "      <th>three_g_yes</th>\n",
       "      <td>0.018081</td>\n",
       "      <td>-0.038021</td>\n",
       "      <td>-0.003768</td>\n",
       "      <td>-0.011804</td>\n",
       "      <td>-0.017879</td>\n",
       "      <td>0.003172</td>\n",
       "      <td>0.007503</td>\n",
       "      <td>-0.006058</td>\n",
       "      <td>-0.024483</td>\n",
       "      <td>0.006894</td>\n",
       "      <td>...</td>\n",
       "      <td>-0.573829</td>\n",
       "      <td>0.573829</td>\n",
       "      <td>-1.000000</td>\n",
       "      <td>1.000000</td>\n",
       "      <td>-0.009271</td>\n",
       "      <td>0.009271</td>\n",
       "      <td>5.388022e-03</td>\n",
       "      <td>-5.388022e-03</td>\n",
       "      <td>-6.067893e-03</td>\n",
       "      <td>6.067893e-03</td>\n",
       "    </tr>\n",
       "    <tr>\n",
       "      <th>touch_screen_no</th>\n",
       "      <td>0.010421</td>\n",
       "      <td>-0.033917</td>\n",
       "      <td>0.004902</td>\n",
       "      <td>0.010725</td>\n",
       "      <td>-0.011327</td>\n",
       "      <td>-0.005084</td>\n",
       "      <td>-0.010416</td>\n",
       "      <td>-0.001507</td>\n",
       "      <td>-0.008320</td>\n",
       "      <td>0.014521</td>\n",
       "      <td>...</td>\n",
       "      <td>0.007922</td>\n",
       "      <td>-0.007922</td>\n",
       "      <td>0.009271</td>\n",
       "      <td>-0.009271</td>\n",
       "      <td>1.000000</td>\n",
       "      <td>-1.000000</td>\n",
       "      <td>-7.227433e-04</td>\n",
       "      <td>7.227433e-04</td>\n",
       "      <td>2.828450e-03</td>\n",
       "      <td>-2.828450e-03</td>\n",
       "    </tr>\n",
       "    <tr>\n",
       "      <th>touch_screen_yes</th>\n",
       "      <td>-0.010421</td>\n",
       "      <td>0.033917</td>\n",
       "      <td>-0.004902</td>\n",
       "      <td>-0.010725</td>\n",
       "      <td>0.011327</td>\n",
       "      <td>0.005084</td>\n",
       "      <td>0.010416</td>\n",
       "      <td>0.001507</td>\n",
       "      <td>0.008320</td>\n",
       "      <td>-0.014521</td>\n",
       "      <td>...</td>\n",
       "      <td>-0.007922</td>\n",
       "      <td>0.007922</td>\n",
       "      <td>-0.009271</td>\n",
       "      <td>0.009271</td>\n",
       "      <td>-1.000000</td>\n",
       "      <td>1.000000</td>\n",
       "      <td>7.227433e-04</td>\n",
       "      <td>-7.227433e-04</td>\n",
       "      <td>-2.828450e-03</td>\n",
       "      <td>2.828450e-03</td>\n",
       "    </tr>\n",
       "    <tr>\n",
       "      <th>wifi_no</th>\n",
       "      <td>0.005728</td>\n",
       "      <td>0.032594</td>\n",
       "      <td>0.007332</td>\n",
       "      <td>-0.008606</td>\n",
       "      <td>0.032056</td>\n",
       "      <td>-0.022733</td>\n",
       "      <td>0.009054</td>\n",
       "      <td>0.014789</td>\n",
       "      <td>-0.030695</td>\n",
       "      <td>0.004845</td>\n",
       "      <td>...</td>\n",
       "      <td>-0.023620</td>\n",
       "      <td>0.023620</td>\n",
       "      <td>-0.005388</td>\n",
       "      <td>0.005388</td>\n",
       "      <td>-0.000723</td>\n",
       "      <td>0.000723</td>\n",
       "      <td>1.000000e+00</td>\n",
       "      <td>-1.000000e+00</td>\n",
       "      <td>2.396196e-16</td>\n",
       "      <td>-2.228180e-16</td>\n",
       "    </tr>\n",
       "    <tr>\n",
       "      <th>wifi_yes</th>\n",
       "      <td>-0.005728</td>\n",
       "      <td>-0.032594</td>\n",
       "      <td>-0.007332</td>\n",
       "      <td>0.008606</td>\n",
       "      <td>-0.032056</td>\n",
       "      <td>0.022733</td>\n",
       "      <td>-0.009054</td>\n",
       "      <td>-0.014789</td>\n",
       "      <td>0.030695</td>\n",
       "      <td>-0.004845</td>\n",
       "      <td>...</td>\n",
       "      <td>0.023620</td>\n",
       "      <td>-0.023620</td>\n",
       "      <td>0.005388</td>\n",
       "      <td>-0.005388</td>\n",
       "      <td>0.000723</td>\n",
       "      <td>-0.000723</td>\n",
       "      <td>-1.000000e+00</td>\n",
       "      <td>1.000000e+00</td>\n",
       "      <td>-2.396196e-16</td>\n",
       "      <td>2.228180e-16</td>\n",
       "    </tr>\n",
       "    <tr>\n",
       "      <th>type_test</th>\n",
       "      <td>0.010778</td>\n",
       "      <td>0.010719</td>\n",
       "      <td>0.029531</td>\n",
       "      <td>0.041700</td>\n",
       "      <td>0.025967</td>\n",
       "      <td>-0.009881</td>\n",
       "      <td>-0.039644</td>\n",
       "      <td>0.010673</td>\n",
       "      <td>-0.019223</td>\n",
       "      <td>-0.012736</td>\n",
       "      <td>...</td>\n",
       "      <td>0.032533</td>\n",
       "      <td>-0.032533</td>\n",
       "      <td>0.006068</td>\n",
       "      <td>-0.006068</td>\n",
       "      <td>0.002828</td>\n",
       "      <td>-0.002828</td>\n",
       "      <td>2.396196e-16</td>\n",
       "      <td>-2.396196e-16</td>\n",
       "      <td>1.000000e+00</td>\n",
       "      <td>-1.000000e+00</td>\n",
       "    </tr>\n",
       "    <tr>\n",
       "      <th>type_train</th>\n",
       "      <td>-0.010778</td>\n",
       "      <td>-0.010719</td>\n",
       "      <td>-0.029531</td>\n",
       "      <td>-0.041700</td>\n",
       "      <td>-0.025967</td>\n",
       "      <td>0.009881</td>\n",
       "      <td>0.039644</td>\n",
       "      <td>-0.010673</td>\n",
       "      <td>0.019223</td>\n",
       "      <td>0.012736</td>\n",
       "      <td>...</td>\n",
       "      <td>-0.032533</td>\n",
       "      <td>0.032533</td>\n",
       "      <td>-0.006068</td>\n",
       "      <td>0.006068</td>\n",
       "      <td>-0.002828</td>\n",
       "      <td>0.002828</td>\n",
       "      <td>-2.228180e-16</td>\n",
       "      <td>2.228180e-16</td>\n",
       "      <td>-1.000000e+00</td>\n",
       "      <td>1.000000e+00</td>\n",
       "    </tr>\n",
       "  </tbody>\n",
       "</table>\n",
       "<p>29 rows × 29 columns</p>\n",
       "</div>"
      ],
      "text/plain": [
       "                  battery_power  clock_speed        fc  int_memory     m_dep  \\\n",
       "battery_power          1.000000    -0.005250  0.018777   -0.000998  0.020382   \n",
       "clock_speed           -0.005250     1.000000  0.003436   -0.005467 -0.003707   \n",
       "fc                     0.018777     0.003436  1.000000   -0.020321  0.006233   \n",
       "int_memory            -0.000998    -0.005467 -0.020321    1.000000  0.004277   \n",
       "m_dep                  0.020382    -0.003707  0.006233    0.004277  1.000000   \n",
       "mobile_wt             -0.014217     0.003424  0.021287   -0.026769  0.000849   \n",
       "n_cores               -0.011859    -0.008339 -0.002092   -0.013321 -0.000093   \n",
       "pc                     0.025401     0.012682  0.650961   -0.014118  0.022075   \n",
       "px_height              0.025622    -0.004159 -0.014133    0.003035  0.036740   \n",
       "px_width               0.012056     0.017658  0.005890   -0.007357  0.026959   \n",
       "ram                   -0.011059     0.002130 -0.006774    0.019742 -0.000154   \n",
       "sc_h                  -0.038917    -0.032997  0.008653    0.020374 -0.026484   \n",
       "sc_w                  -0.022727    -0.014421 -0.006526    0.013828 -0.021243   \n",
       "talk_time              0.040337    -0.034143 -0.021554    0.006348  0.019500   \n",
       "price                  0.181707    -0.003853  0.024135    0.044626 -0.002114   \n",
       "blue_no                0.007606    -0.026114  0.016151   -0.024133 -0.009229   \n",
       "blue_yes              -0.007606     0.026114 -0.016151    0.024133  0.009229   \n",
       "dual_sim_no            0.048135     0.004980  0.000206    0.014199  0.007585   \n",
       "dual_sim_yes          -0.048135    -0.004980 -0.000206   -0.014199 -0.007585   \n",
       "four_g_no              0.003877     0.037196  0.002008    0.008044 -0.002775   \n",
       "four_g_yes            -0.003877    -0.037196 -0.002008   -0.008044  0.002775   \n",
       "three_g_no            -0.018081     0.038021  0.003768    0.011804  0.017879   \n",
       "three_g_yes            0.018081    -0.038021 -0.003768   -0.011804 -0.017879   \n",
       "touch_screen_no        0.010421    -0.033917  0.004902    0.010725 -0.011327   \n",
       "touch_screen_yes      -0.010421     0.033917 -0.004902   -0.010725  0.011327   \n",
       "wifi_no                0.005728     0.032594  0.007332   -0.008606  0.032056   \n",
       "wifi_yes              -0.005728    -0.032594 -0.007332    0.008606 -0.032056   \n",
       "type_test              0.010778     0.010719  0.029531    0.041700  0.025967   \n",
       "type_train            -0.010778    -0.010719 -0.029531   -0.041700 -0.025967   \n",
       "\n",
       "                  mobile_wt   n_cores        pc  px_height  px_width  ...  \\\n",
       "battery_power     -0.014217 -0.011859  0.025401   0.025622  0.012056  ...   \n",
       "clock_speed        0.003424 -0.008339  0.012682  -0.004159  0.017658  ...   \n",
       "fc                 0.021287 -0.002092  0.650961  -0.014133  0.005890  ...   \n",
       "int_memory        -0.026769 -0.013321 -0.014118   0.003035 -0.007357  ...   \n",
       "m_dep              0.000849 -0.000093  0.022075   0.036740  0.026959  ...   \n",
       "mobile_wt          1.000000 -0.025144  0.021547   0.004504 -0.004675  ...   \n",
       "n_cores           -0.025144  1.000000  0.003587  -0.021720 -0.003281  ...   \n",
       "pc                 0.021547  0.003587  1.000000  -0.003028  0.021710  ...   \n",
       "px_height          0.004504 -0.021720 -0.003028   1.000000  0.512979  ...   \n",
       "px_width          -0.004675 -0.003281  0.021710   0.512979  1.000000  ...   \n",
       "ram                0.007720 -0.011279  0.003934  -0.004614 -0.006271  ...   \n",
       "sc_h              -0.029531 -0.010362  0.009594   0.044023  0.006884  ...   \n",
       "sc_w              -0.006372  0.023479 -0.018572   0.043978  0.025355  ...   \n",
       "talk_time         -0.003097  0.006603 -0.003098   0.009926  0.022441  ...   \n",
       "price             -0.034670  0.003822  0.034623   0.130953  0.147995  ...   \n",
       "blue_no           -0.001789 -0.024396  0.014850   0.024332  0.038579  ...   \n",
       "blue_yes           0.001789  0.024396 -0.014850  -0.024332 -0.038579  ...   \n",
       "dual_sim_no        0.006660  0.017750 -0.013381   0.011913 -0.014643  ...   \n",
       "dual_sim_yes      -0.006660 -0.017750  0.013381  -0.011913  0.014643  ...   \n",
       "four_g_no          0.010920 -0.003732 -0.008524   0.001319 -0.017664  ...   \n",
       "four_g_yes        -0.010920  0.003732  0.008524  -0.001319  0.017664  ...   \n",
       "three_g_no        -0.003172 -0.007503  0.006058   0.024483 -0.006894  ...   \n",
       "three_g_yes        0.003172  0.007503 -0.006058  -0.024483  0.006894  ...   \n",
       "touch_screen_no   -0.005084 -0.010416 -0.001507  -0.008320  0.014521  ...   \n",
       "touch_screen_yes   0.005084  0.010416  0.001507   0.008320 -0.014521  ...   \n",
       "wifi_no           -0.022733  0.009054  0.014789  -0.030695  0.004845  ...   \n",
       "wifi_yes           0.022733 -0.009054 -0.014789   0.030695 -0.004845  ...   \n",
       "type_test         -0.009881 -0.039644  0.010673  -0.019223 -0.012736  ...   \n",
       "type_train         0.009881  0.039644 -0.010673   0.019223  0.012736  ...   \n",
       "\n",
       "                  four_g_no  four_g_yes  three_g_no  three_g_yes  \\\n",
       "battery_power      0.003877   -0.003877   -0.018081     0.018081   \n",
       "clock_speed        0.037196   -0.037196    0.038021    -0.038021   \n",
       "fc                 0.002008   -0.002008    0.003768    -0.003768   \n",
       "int_memory         0.008044   -0.008044    0.011804    -0.011804   \n",
       "m_dep             -0.002775    0.002775    0.017879    -0.017879   \n",
       "mobile_wt          0.010920   -0.010920   -0.003172     0.003172   \n",
       "n_cores           -0.003732    0.003732   -0.007503     0.007503   \n",
       "pc                -0.008524    0.008524    0.006058    -0.006058   \n",
       "px_height          0.001319   -0.001319    0.024483    -0.024483   \n",
       "px_width          -0.017664    0.017664   -0.006894     0.006894   \n",
       "ram               -0.014950    0.014950   -0.020427     0.020427   \n",
       "sc_h              -0.013950    0.013950   -0.001491     0.001491   \n",
       "sc_w              -0.026152    0.026152   -0.021411     0.021411   \n",
       "talk_time          0.026627   -0.026627    0.028973    -0.028973   \n",
       "price             -0.014333    0.014333   -0.023047     0.023047   \n",
       "blue_no            0.007922   -0.007922   -0.015693     0.015693   \n",
       "blue_yes          -0.007922    0.007922    0.015693    -0.015693   \n",
       "dual_sim_no        0.010192   -0.010192   -0.009127     0.009127   \n",
       "dual_sim_yes      -0.010192    0.010192    0.009127    -0.009127   \n",
       "four_g_no          1.000000   -1.000000    0.573829    -0.573829   \n",
       "four_g_yes        -1.000000    1.000000   -0.573829     0.573829   \n",
       "three_g_no         0.573829   -0.573829    1.000000    -1.000000   \n",
       "three_g_yes       -0.573829    0.573829   -1.000000     1.000000   \n",
       "touch_screen_no    0.007922   -0.007922    0.009271    -0.009271   \n",
       "touch_screen_yes  -0.007922    0.007922   -0.009271     0.009271   \n",
       "wifi_no           -0.023620    0.023620   -0.005388     0.005388   \n",
       "wifi_yes           0.023620   -0.023620    0.005388    -0.005388   \n",
       "type_test          0.032533   -0.032533    0.006068    -0.006068   \n",
       "type_train        -0.032533    0.032533   -0.006068     0.006068   \n",
       "\n",
       "                  touch_screen_no  touch_screen_yes       wifi_no  \\\n",
       "battery_power            0.010421         -0.010421  5.728108e-03   \n",
       "clock_speed             -0.033917          0.033917  3.259424e-02   \n",
       "fc                       0.004902         -0.004902  7.331673e-03   \n",
       "int_memory               0.010725         -0.010725 -8.606455e-03   \n",
       "m_dep                   -0.011327          0.011327  3.205625e-02   \n",
       "mobile_wt               -0.005084          0.005084 -2.273265e-02   \n",
       "n_cores                 -0.010416          0.010416  9.053830e-03   \n",
       "pc                      -0.001507          0.001507  1.478942e-02   \n",
       "px_height               -0.008320          0.008320 -3.069456e-02   \n",
       "px_width                 0.014521         -0.014521  4.845053e-03   \n",
       "ram                      0.034880         -0.034880 -4.443208e-03   \n",
       "sc_h                     0.017758         -0.017758 -1.611661e-02   \n",
       "sc_w                     0.006895         -0.006895 -2.885673e-02   \n",
       "talk_time               -0.021106          0.021106  1.403862e-02   \n",
       "price                    0.032226         -0.032226 -2.106037e-02   \n",
       "blue_no                 -0.013350          0.013350 -6.056642e-03   \n",
       "blue_yes                 0.013350         -0.013350  6.056642e-03   \n",
       "dual_sim_no             -0.000096          0.000096  2.567391e-02   \n",
       "dual_sim_yes             0.000096         -0.000096 -2.567391e-02   \n",
       "four_g_no                0.007922         -0.007922 -2.362037e-02   \n",
       "four_g_yes              -0.007922          0.007922  2.362037e-02   \n",
       "three_g_no               0.009271         -0.009271 -5.388022e-03   \n",
       "three_g_yes             -0.009271          0.009271  5.388022e-03   \n",
       "touch_screen_no          1.000000         -1.000000 -7.227433e-04   \n",
       "touch_screen_yes        -1.000000          1.000000  7.227433e-04   \n",
       "wifi_no                 -0.000723          0.000723  1.000000e+00   \n",
       "wifi_yes                 0.000723         -0.000723 -1.000000e+00   \n",
       "type_test                0.002828         -0.002828  2.396196e-16   \n",
       "type_train              -0.002828          0.002828 -2.228180e-16   \n",
       "\n",
       "                      wifi_yes     type_test    type_train  \n",
       "battery_power    -5.728108e-03  1.077834e-02 -1.077834e-02  \n",
       "clock_speed      -3.259424e-02  1.071869e-02 -1.071869e-02  \n",
       "fc               -7.331673e-03  2.953062e-02 -2.953062e-02  \n",
       "int_memory        8.606455e-03  4.169967e-02 -4.169967e-02  \n",
       "m_dep            -3.205625e-02  2.596736e-02 -2.596736e-02  \n",
       "mobile_wt         2.273265e-02 -9.881196e-03  9.881196e-03  \n",
       "n_cores          -9.053830e-03 -3.964447e-02  3.964447e-02  \n",
       "pc               -1.478942e-02  1.067332e-02 -1.067332e-02  \n",
       "px_height         3.069456e-02 -1.922319e-02  1.922319e-02  \n",
       "px_width         -4.845053e-03 -1.273602e-02  1.273602e-02  \n",
       "ram               4.443208e-03  6.420664e-03 -6.420664e-03  \n",
       "sc_h              1.611661e-02 -3.454758e-02  3.454758e-02  \n",
       "sc_w              2.885673e-02 -4.919357e-02  4.919357e-02  \n",
       "talk_time        -1.403862e-02  6.373256e-03 -6.373256e-03  \n",
       "price             2.106037e-02           NaN           NaN  \n",
       "blue_no           6.056642e-03 -1.979915e-02  1.979915e-02  \n",
       "blue_yes         -6.056642e-03  1.979915e-02 -1.979915e-02  \n",
       "dual_sim_no      -2.567391e-02 -7.073105e-03  7.073105e-03  \n",
       "dual_sim_yes      2.567391e-02  7.073105e-03 -7.073105e-03  \n",
       "four_g_no         2.362037e-02  3.253342e-02 -3.253342e-02  \n",
       "four_g_yes       -2.362037e-02 -3.253342e-02  3.253342e-02  \n",
       "three_g_no        5.388022e-03  6.067893e-03 -6.067893e-03  \n",
       "three_g_yes      -5.388022e-03 -6.067893e-03  6.067893e-03  \n",
       "touch_screen_no   7.227433e-04  2.828450e-03 -2.828450e-03  \n",
       "touch_screen_yes -7.227433e-04 -2.828450e-03  2.828450e-03  \n",
       "wifi_no          -1.000000e+00  2.396196e-16 -2.228180e-16  \n",
       "wifi_yes          1.000000e+00 -2.396196e-16  2.228180e-16  \n",
       "type_test        -2.396196e-16  1.000000e+00 -1.000000e+00  \n",
       "type_train        2.228180e-16 -1.000000e+00  1.000000e+00  \n",
       "\n",
       "[29 rows x 29 columns]"
      ]
     },
     "execution_count": 52,
     "metadata": {},
     "output_type": "execute_result"
    }
   ],
   "source": [
    "data.corr()"
   ]
  },
  {
   "cell_type": "markdown",
   "metadata": {},
   "source": [
    "#Split the data sets again to train and test,the train data is used for model evaluations"
   ]
  },
  {
   "cell_type": "code",
   "execution_count": 29,
   "metadata": {},
   "outputs": [],
   "source": [
    "train = data[data.type_train==1]\n",
    "test = data[data.type_test==1]"
   ]
  },
  {
   "cell_type": "code",
   "execution_count": 30,
   "metadata": {},
   "outputs": [
    {
     "data": {
      "text/plain": [
       "(2000, 29)"
      ]
     },
     "execution_count": 30,
     "metadata": {},
     "output_type": "execute_result"
    }
   ],
   "source": [
    "train.shape"
   ]
  },
  {
   "cell_type": "code",
   "execution_count": 31,
   "metadata": {},
   "outputs": [],
   "source": [
    "train = train.drop(['type_test','type_train'],axis=1)  #type_train and type_test are not needed in modelling\n",
    "test = test.drop(['type_test','type_train'],axis=1)"
   ]
  },
  {
   "cell_type": "code",
   "execution_count": 32,
   "metadata": {},
   "outputs": [],
   "source": [
    "#Train data is used for modelling\n",
    "X = train.drop('price',axis=1)\n",
    "y = train['price']"
   ]
  },
  {
   "cell_type": "code",
   "execution_count": 33,
   "metadata": {},
   "outputs": [],
   "source": [
    "from sklearn.model_selection import train_test_split\n",
    "X_train,X_test,y_train,y_test = train_test_split(X,y,test_size=0.33,random_state=42)"
   ]
  },
  {
   "cell_type": "code",
   "execution_count": 34,
   "metadata": {},
   "outputs": [],
   "source": [
    "#LinearRegression starts here,first is ridge\n",
    "from sklearn.linear_model import LinearRegression\n",
    "from sklearn.model_selection import GridSearchCV "
   ]
  },
  {
   "cell_type": "code",
   "execution_count": 35,
   "metadata": {},
   "outputs": [],
   "source": [
    "normalize_vals = [True,False]\n",
    "n_jobs_vals =[1,2,5,10]\n",
    "\n",
    "parameters = {'normalize':normalize_vals , 'n_jobs': n_jobs_vals }"
   ]
  },
  {
   "cell_type": "code",
   "execution_count": 36,
   "metadata": {},
   "outputs": [
    {
     "data": {
      "text/plain": [
       "GridSearchCV(estimator=LinearRegression(),\n",
       "             param_grid={'n_jobs': [1, 2, 5, 10], 'normalize': [True, False]})"
      ]
     },
     "execution_count": 36,
     "metadata": {},
     "output_type": "execute_result"
    }
   ],
   "source": [
    "reg = LinearRegression()   #reg is the object for LR\n",
    "\n",
    "linear_regressor = GridSearchCV(reg, parameters)\n",
    "\n",
    "linear_regressor.fit(X_train, y_train)"
   ]
  },
  {
   "cell_type": "code",
   "execution_count": 37,
   "metadata": {},
   "outputs": [
    {
     "data": {
      "text/plain": [
       "LinearRegression(n_jobs=1)"
      ]
     },
     "execution_count": 37,
     "metadata": {},
     "output_type": "execute_result"
    }
   ],
   "source": [
    "linear_regressor.best_estimator_"
   ]
  },
  {
   "cell_type": "code",
   "execution_count": 38,
   "metadata": {},
   "outputs": [
    {
     "data": {
      "text/plain": [
       "{'n_jobs': 1, 'normalize': False}"
      ]
     },
     "execution_count": 38,
     "metadata": {},
     "output_type": "execute_result"
    }
   ],
   "source": [
    "linear_regressor.best_params_"
   ]
  },
  {
   "cell_type": "code",
   "execution_count": 39,
   "metadata": {},
   "outputs": [
    {
     "data": {
      "text/plain": [
       "0.929491261746938"
      ]
     },
     "execution_count": 39,
     "metadata": {},
     "output_type": "execute_result"
    }
   ],
   "source": [
    "linear_regressor.score(X_train, y_train)"
   ]
  },
  {
   "cell_type": "code",
   "execution_count": 40,
   "metadata": {},
   "outputs": [],
   "source": [
    "linear=LinearRegression(normalize=False,n_jobs=1)\n",
    "linear.fit(X_train,y_train)\n",
    "y_pred_linear=linear.predict(X_test)"
   ]
  },
  {
   "cell_type": "code",
   "execution_count": 41,
   "metadata": {},
   "outputs": [
    {
     "data": {
      "text/plain": [
       "2118473.980257414"
      ]
     },
     "execution_count": 41,
     "metadata": {},
     "output_type": "execute_result"
    }
   ],
   "source": [
    "#checking testing error\n",
    "from sklearn.metrics import mean_squared_error\n",
    "linear_testerror = mean_squared_error(y_pred_linear,y_test)\n",
    "linear_testerror"
   ]
  },
  {
   "cell_type": "code",
   "execution_count": 42,
   "metadata": {},
   "outputs": [
    {
     "data": {
      "text/plain": [
       "2107767.0972948866"
      ]
     },
     "execution_count": 42,
     "metadata": {},
     "output_type": "execute_result"
    }
   ],
   "source": [
    "#checking training error\n",
    "y_pred_linear_train=linear.predict(X_train)\n",
    "Linear_Trainingerror=mean_squared_error(y_pred_linear_train,y_train)\n",
    "Linear_Trainingerror"
   ]
  },
  {
   "cell_type": "code",
   "execution_count": 43,
   "metadata": {},
   "outputs": [
    {
     "name": "stderr",
     "output_type": "stream",
     "text": [
      "/home/student/.local/lib/python3.6/site-packages/sklearn/linear_model/_coordinate_descent.py:531: ConvergenceWarning: Objective did not converge. You might want to increase the number of iterations. Duality gap: 1074845248.1458254, tolerance: 3187472.470629851\n",
      "  positive)\n",
      "/home/student/.local/lib/python3.6/site-packages/sklearn/linear_model/_coordinate_descent.py:531: ConvergenceWarning: Objective did not converge. You might want to increase the number of iterations. Duality gap: 942129304.0517998, tolerance: 3240414.1646879665\n",
      "  positive)\n",
      "/home/student/.local/lib/python3.6/site-packages/sklearn/linear_model/_coordinate_descent.py:531: ConvergenceWarning: Objective did not converge. You might want to increase the number of iterations. Duality gap: 1032908590.3571271, tolerance: 3177593.108342911\n",
      "  positive)\n",
      "/home/student/.local/lib/python3.6/site-packages/sklearn/linear_model/_coordinate_descent.py:531: ConvergenceWarning: Objective did not converge. You might want to increase the number of iterations. Duality gap: 975595442.624509, tolerance: 3174005.949608862\n",
      "  positive)\n",
      "/home/student/.local/lib/python3.6/site-packages/sklearn/linear_model/_coordinate_descent.py:531: ConvergenceWarning: Objective did not converge. You might want to increase the number of iterations. Duality gap: 946456918.5896766, tolerance: 3242122.212871642\n",
      "  positive)\n",
      "/home/student/.local/lib/python3.6/site-packages/sklearn/linear_model/_coordinate_descent.py:531: ConvergenceWarning: Objective did not converge. You might want to increase the number of iterations. Duality gap: 1146948171.6184194, tolerance: 3187472.470629851\n",
      "  positive)\n",
      "/home/student/.local/lib/python3.6/site-packages/sklearn/linear_model/_coordinate_descent.py:531: ConvergenceWarning: Objective did not converge. You might want to increase the number of iterations. Duality gap: 1087714037.6813753, tolerance: 3240414.1646879665\n",
      "  positive)\n",
      "/home/student/.local/lib/python3.6/site-packages/sklearn/linear_model/_coordinate_descent.py:531: ConvergenceWarning: Objective did not converge. You might want to increase the number of iterations. Duality gap: 1150265142.224569, tolerance: 3177593.108342911\n",
      "  positive)\n",
      "/home/student/.local/lib/python3.6/site-packages/sklearn/linear_model/_coordinate_descent.py:531: ConvergenceWarning: Objective did not converge. You might want to increase the number of iterations. Duality gap: 1094295646.5071425, tolerance: 3174005.949608862\n",
      "  positive)\n",
      "/home/student/.local/lib/python3.6/site-packages/sklearn/linear_model/_coordinate_descent.py:531: ConvergenceWarning: Objective did not converge. You might want to increase the number of iterations. Duality gap: 1154990995.0978458, tolerance: 3242122.212871642\n",
      "  positive)\n",
      "/home/student/.local/lib/python3.6/site-packages/sklearn/linear_model/_coordinate_descent.py:531: ConvergenceWarning: Objective did not converge. You might want to increase the number of iterations. Duality gap: 56662549.19995952, tolerance: 3187472.470629851\n",
      "  positive)\n",
      "/home/student/.local/lib/python3.6/site-packages/sklearn/linear_model/_coordinate_descent.py:531: ConvergenceWarning: Objective did not converge. You might want to increase the number of iterations. Duality gap: 694006040.0028172, tolerance: 3240414.1646879665\n",
      "  positive)\n",
      "/home/student/.local/lib/python3.6/site-packages/sklearn/linear_model/_coordinate_descent.py:531: ConvergenceWarning: Objective did not converge. You might want to increase the number of iterations. Duality gap: 664739767.7817842, tolerance: 3177593.108342911\n",
      "  positive)\n"
     ]
    },
    {
     "data": {
      "text/plain": [
       "GridSearchCV(estimator=Lasso(),\n",
       "             param_grid={'alpha': [1e-15, 1e-10, 1e-08, 0.0001, 0.001, 0.01, 1,\n",
       "                                   5, 10, 20],\n",
       "                         'normalize': [True, False]})"
      ]
     },
     "execution_count": 43,
     "metadata": {},
     "output_type": "execute_result"
    }
   ],
   "source": [
    "#There is only a small difference between training and testing errors,so we can assume that there is no overfitting\n",
    "#next is lasso regression\n",
    "from sklearn.linear_model import Lasso\n",
    "\n",
    "lasso = Lasso()\n",
    "\n",
    "parameters = {'alpha': [1e-15, 1e-10, 1e-8, 1e-4, 1e-3,1e-2, 1, 5, 10, 20],'normalize' : [True,False] }\n",
    "\n",
    "lasso_regressor = GridSearchCV(lasso, parameters)\n",
    "\n",
    "lasso_regressor.fit(X_train, y_train)"
   ]
  },
  {
   "cell_type": "code",
   "execution_count": 44,
   "metadata": {},
   "outputs": [
    {
     "data": {
      "text/plain": [
       "{'alpha': 1, 'normalize': True}"
      ]
     },
     "execution_count": 44,
     "metadata": {},
     "output_type": "execute_result"
    }
   ],
   "source": [
    "lasso_regressor.best_params_"
   ]
  },
  {
   "cell_type": "code",
   "execution_count": 45,
   "metadata": {},
   "outputs": [
    {
     "data": {
      "text/plain": [
       "2117613.684092968"
      ]
     },
     "execution_count": 45,
     "metadata": {},
     "output_type": "execute_result"
    }
   ],
   "source": [
    "#checking for lasso error \n",
    "lasso=Lasso(alpha = 1, normalize = True)\n",
    "lasso.fit(X_train,y_train)\n",
    "y_pred_lasso=lasso.predict(X_test)\n",
    "lasso_error = mean_squared_error(y_pred_lasso,y_test)\n",
    "lasso_error"
   ]
  },
  {
   "cell_type": "code",
   "execution_count": 46,
   "metadata": {},
   "outputs": [
    {
     "name": "stderr",
     "output_type": "stream",
     "text": [
      "/home/student/.local/lib/python3.6/site-packages/sklearn/linear_model/_coordinate_descent.py:531: ConvergenceWarning: Objective did not converge. You might want to increase the number of iterations. Duality gap: 1146998211.6794798, tolerance: 3187472.470629851\n",
      "  positive)\n",
      "/home/student/.local/lib/python3.6/site-packages/sklearn/linear_model/_coordinate_descent.py:531: ConvergenceWarning: Objective did not converge. You might want to increase the number of iterations. Duality gap: 1087712104.2011898, tolerance: 3240414.1646879665\n",
      "  positive)\n",
      "/home/student/.local/lib/python3.6/site-packages/sklearn/linear_model/_coordinate_descent.py:531: ConvergenceWarning: Objective did not converge. You might want to increase the number of iterations. Duality gap: 1150265341.4009535, tolerance: 3177593.108342911\n",
      "  positive)\n",
      "/home/student/.local/lib/python3.6/site-packages/sklearn/linear_model/_coordinate_descent.py:531: ConvergenceWarning: Objective did not converge. You might want to increase the number of iterations. Duality gap: 1094301186.7915246, tolerance: 3174005.949608862\n",
      "  positive)\n",
      "/home/student/.local/lib/python3.6/site-packages/sklearn/linear_model/_coordinate_descent.py:531: ConvergenceWarning: Objective did not converge. You might want to increase the number of iterations. Duality gap: 1154982309.6800869, tolerance: 3242122.212871642\n",
      "  positive)\n",
      "/home/student/.local/lib/python3.6/site-packages/sklearn/linear_model/_coordinate_descent.py:531: ConvergenceWarning: Objective did not converge. You might want to increase the number of iterations. Duality gap: 1132083599.160797, tolerance: 3187472.470629851\n",
      "  positive)\n",
      "/home/student/.local/lib/python3.6/site-packages/sklearn/linear_model/_coordinate_descent.py:531: ConvergenceWarning: Objective did not converge. You might want to increase the number of iterations. Duality gap: 1076438372.0423799, tolerance: 3240414.1646879665\n",
      "  positive)\n",
      "/home/student/.local/lib/python3.6/site-packages/sklearn/linear_model/_coordinate_descent.py:531: ConvergenceWarning: Objective did not converge. You might want to increase the number of iterations. Duality gap: 1135827969.89367, tolerance: 3177593.108342911\n",
      "  positive)\n",
      "/home/student/.local/lib/python3.6/site-packages/sklearn/linear_model/_coordinate_descent.py:531: ConvergenceWarning: Objective did not converge. You might want to increase the number of iterations. Duality gap: 1085056043.7176056, tolerance: 3174005.949608862\n",
      "  positive)\n",
      "/home/student/.local/lib/python3.6/site-packages/sklearn/linear_model/_coordinate_descent.py:531: ConvergenceWarning: Objective did not converge. You might want to increase the number of iterations. Duality gap: 1138594412.83971, tolerance: 3242122.212871642\n",
      "  positive)\n",
      "/home/student/.local/lib/python3.6/site-packages/sklearn/linear_model/_coordinate_descent.py:531: ConvergenceWarning: Objective did not converge. You might want to increase the number of iterations. Duality gap: 1132082979.0420659, tolerance: 3187472.470629851\n",
      "  positive)\n",
      "/home/student/.local/lib/python3.6/site-packages/sklearn/linear_model/_coordinate_descent.py:531: ConvergenceWarning: Objective did not converge. You might want to increase the number of iterations. Duality gap: 1076437763.287352, tolerance: 3240414.1646879665\n",
      "  positive)\n",
      "/home/student/.local/lib/python3.6/site-packages/sklearn/linear_model/_coordinate_descent.py:531: ConvergenceWarning: Objective did not converge. You might want to increase the number of iterations. Duality gap: 1135827138.8639283, tolerance: 3177593.108342911\n",
      "  positive)\n",
      "/home/student/.local/lib/python3.6/site-packages/sklearn/linear_model/_coordinate_descent.py:531: ConvergenceWarning: Objective did not converge. You might want to increase the number of iterations. Duality gap: 1085055549.179315, tolerance: 3174005.949608862\n",
      "  positive)\n",
      "/home/student/.local/lib/python3.6/site-packages/sklearn/linear_model/_coordinate_descent.py:531: ConvergenceWarning: Objective did not converge. You might want to increase the number of iterations. Duality gap: 1138593768.628078, tolerance: 3242122.212871642\n",
      "  positive)\n",
      "/home/student/.local/lib/python3.6/site-packages/sklearn/linear_model/_coordinate_descent.py:531: ConvergenceWarning: Objective did not converge. You might want to increase the number of iterations. Duality gap: 1124688061.0536375, tolerance: 3187472.470629851\n",
      "  positive)\n",
      "/home/student/.local/lib/python3.6/site-packages/sklearn/linear_model/_coordinate_descent.py:531: ConvergenceWarning: Objective did not converge. You might want to increase the number of iterations. Duality gap: 1068124741.5297467, tolerance: 3240414.1646879665\n",
      "  positive)\n",
      "/home/student/.local/lib/python3.6/site-packages/sklearn/linear_model/_coordinate_descent.py:531: ConvergenceWarning: Objective did not converge. You might want to increase the number of iterations. Duality gap: 1124999651.4770026, tolerance: 3177593.108342911\n",
      "  positive)\n",
      "/home/student/.local/lib/python3.6/site-packages/sklearn/linear_model/_coordinate_descent.py:531: ConvergenceWarning: Objective did not converge. You might want to increase the number of iterations. Duality gap: 1078326382.8069596, tolerance: 3174005.949608862\n",
      "  positive)\n",
      "/home/student/.local/lib/python3.6/site-packages/sklearn/linear_model/_coordinate_descent.py:531: ConvergenceWarning: Objective did not converge. You might want to increase the number of iterations. Duality gap: 1130465221.3730755, tolerance: 3242122.212871642\n",
      "  positive)\n",
      "/home/student/.local/lib/python3.6/site-packages/sklearn/linear_model/_coordinate_descent.py:531: ConvergenceWarning: Objective did not converge. You might want to increase the number of iterations. Duality gap: 227729748.67567515, tolerance: 3187472.470629851\n",
      "  positive)\n",
      "/home/student/.local/lib/python3.6/site-packages/sklearn/linear_model/_coordinate_descent.py:531: ConvergenceWarning: Objective did not converge. You might want to increase the number of iterations. Duality gap: 133992522.10512829, tolerance: 3240414.1646879665\n",
      "  positive)\n",
      "/home/student/.local/lib/python3.6/site-packages/sklearn/linear_model/_coordinate_descent.py:531: ConvergenceWarning: Objective did not converge. You might want to increase the number of iterations. Duality gap: 4350664.726724625, tolerance: 3177593.108342911\n",
      "  positive)\n",
      "/home/student/.local/lib/python3.6/site-packages/sklearn/linear_model/_coordinate_descent.py:531: ConvergenceWarning: Objective did not converge. You might want to increase the number of iterations. Duality gap: 154454692.04328322, tolerance: 3242122.212871642\n",
      "  positive)\n"
     ]
    },
    {
     "data": {
      "text/plain": [
       "GridSearchCV(estimator=ElasticNet(),\n",
       "             param_grid={'alpha': [1e-15, 1e-10, 1e-08, 0.0001, 0.001, 0.01, 1,\n",
       "                                   5, 10, 20]})"
      ]
     },
     "execution_count": 46,
     "metadata": {},
     "output_type": "execute_result"
    }
   ],
   "source": [
    "from sklearn.linear_model import ElasticNet\n",
    "\n",
    "elastic = ElasticNet()\n",
    "\n",
    "parameters = {'alpha': [1e-15, 1e-10, 1e-8, 1e-4, 1e-3,1e-2, 1, 5, 10, 20]}\n",
    "\n",
    "elastic_regressor = GridSearchCV(elastic, parameters)\n",
    "\n",
    "elastic_regressor.fit(X_train, y_train)"
   ]
  },
  {
   "cell_type": "code",
   "execution_count": 47,
   "metadata": {},
   "outputs": [
    {
     "data": {
      "text/plain": [
       "{'alpha': 20}"
      ]
     },
     "execution_count": 47,
     "metadata": {},
     "output_type": "execute_result"
    }
   ],
   "source": [
    "elastic_regressor.best_params_"
   ]
  },
  {
   "cell_type": "code",
   "execution_count": 48,
   "metadata": {},
   "outputs": [
    {
     "data": {
      "text/plain": [
       "2117703.024270737"
      ]
     },
     "execution_count": 48,
     "metadata": {},
     "output_type": "execute_result"
    }
   ],
   "source": [
    "elastic=ElasticNet(alpha=0.01)\n",
    "elastic.fit(X_train,y_train)\n",
    "y_pred_elastic=elastic.predict(X_test)\n",
    "#to find the elastic error by MSE\n",
    "elastic_Error=mean_squared_error(y_pred_elastic,y_test)\n",
    "elastic_Error"
   ]
  },
  {
   "cell_type": "code",
   "execution_count": 49,
   "metadata": {},
   "outputs": [
    {
     "data": {
      "text/plain": [
       "{'ElasticNet': 2117703.024270737,\n",
       " 'LassoReg': 2117613.684092968,\n",
       " 'LinearReg': 2118473.980257414}"
      ]
     },
     "execution_count": 49,
     "metadata": {},
     "output_type": "execute_result"
    }
   ],
   "source": [
    "ErrorDict={'ElasticNet':elastic_Error,'LassoReg':lasso_error,'LinearReg':linear_testerror}\n",
    "ErrorDict\n",
    "#Here all the errors are almost same,so there is no overfitting!!"
   ]
  },
  {
   "cell_type": "code",
   "execution_count": 50,
   "metadata": {},
   "outputs": [
    {
     "data": {
      "text/html": [
       "<div>\n",
       "<style scoped>\n",
       "    .dataframe tbody tr th:only-of-type {\n",
       "        vertical-align: middle;\n",
       "    }\n",
       "\n",
       "    .dataframe tbody tr th {\n",
       "        vertical-align: top;\n",
       "    }\n",
       "\n",
       "    .dataframe thead th {\n",
       "        text-align: right;\n",
       "    }\n",
       "</style>\n",
       "<table border=\"1\" class=\"dataframe\">\n",
       "  <thead>\n",
       "    <tr style=\"text-align: right;\">\n",
       "      <th></th>\n",
       "      <th>index</th>\n",
       "      <th>Actual values</th>\n",
       "      <th>Predicted</th>\n",
       "      <th>Id</th>\n",
       "    </tr>\n",
       "  </thead>\n",
       "  <tbody>\n",
       "    <tr>\n",
       "      <th>0</th>\n",
       "      <td>1860</td>\n",
       "      <td>5645.0</td>\n",
       "      <td>6379.307151</td>\n",
       "      <td>0</td>\n",
       "    </tr>\n",
       "    <tr>\n",
       "      <th>1</th>\n",
       "      <td>353</td>\n",
       "      <td>14739.0</td>\n",
       "      <td>14089.913610</td>\n",
       "      <td>1</td>\n",
       "    </tr>\n",
       "    <tr>\n",
       "      <th>2</th>\n",
       "      <td>1333</td>\n",
       "      <td>9997.0</td>\n",
       "      <td>9583.795299</td>\n",
       "      <td>2</td>\n",
       "    </tr>\n",
       "    <tr>\n",
       "      <th>3</th>\n",
       "      <td>905</td>\n",
       "      <td>20165.0</td>\n",
       "      <td>20086.836965</td>\n",
       "      <td>3</td>\n",
       "    </tr>\n",
       "    <tr>\n",
       "      <th>4</th>\n",
       "      <td>1289</td>\n",
       "      <td>10714.0</td>\n",
       "      <td>11729.833897</td>\n",
       "      <td>4</td>\n",
       "    </tr>\n",
       "    <tr>\n",
       "      <th>...</th>\n",
       "      <td>...</td>\n",
       "      <td>...</td>\n",
       "      <td>...</td>\n",
       "      <td>...</td>\n",
       "    </tr>\n",
       "    <tr>\n",
       "      <th>95</th>\n",
       "      <td>1833</td>\n",
       "      <td>15184.0</td>\n",
       "      <td>15062.354610</td>\n",
       "      <td>95</td>\n",
       "    </tr>\n",
       "    <tr>\n",
       "      <th>96</th>\n",
       "      <td>651</td>\n",
       "      <td>14926.0</td>\n",
       "      <td>15024.379016</td>\n",
       "      <td>96</td>\n",
       "    </tr>\n",
       "    <tr>\n",
       "      <th>97</th>\n",
       "      <td>1233</td>\n",
       "      <td>20786.0</td>\n",
       "      <td>21797.628524</td>\n",
       "      <td>97</td>\n",
       "    </tr>\n",
       "    <tr>\n",
       "      <th>98</th>\n",
       "      <td>1502</td>\n",
       "      <td>10031.0</td>\n",
       "      <td>12177.057404</td>\n",
       "      <td>98</td>\n",
       "    </tr>\n",
       "    <tr>\n",
       "      <th>99</th>\n",
       "      <td>1931</td>\n",
       "      <td>10071.0</td>\n",
       "      <td>11019.964482</td>\n",
       "      <td>99</td>\n",
       "    </tr>\n",
       "  </tbody>\n",
       "</table>\n",
       "<p>100 rows × 4 columns</p>\n",
       "</div>"
      ],
      "text/plain": [
       "    index  Actual values     Predicted  Id\n",
       "0    1860         5645.0   6379.307151   0\n",
       "1     353        14739.0  14089.913610   1\n",
       "2    1333         9997.0   9583.795299   2\n",
       "3     905        20165.0  20086.836965   3\n",
       "4    1289        10714.0  11729.833897   4\n",
       "..    ...            ...           ...  ..\n",
       "95   1833        15184.0  15062.354610  95\n",
       "96    651        14926.0  15024.379016  96\n",
       "97   1233        20786.0  21797.628524  97\n",
       "98   1502        10031.0  12177.057404  98\n",
       "99   1931        10071.0  11019.964482  99\n",
       "\n",
       "[100 rows x 4 columns]"
      ]
     },
     "execution_count": 50,
     "metadata": {},
     "output_type": "execute_result"
    }
   ],
   "source": [
    "Results= pd.DataFrame(columns=['Actual values','Predicted'])\n",
    "Results['Actual values']=y_test\n",
    "Results['Predicted']=y_pred_linear\n",
    "Results=Results.reset_index()\n",
    "Results['Id']=Results.index\n",
    "Results.head(100)"
   ]
  },
  {
   "cell_type": "code",
   "execution_count": 51,
   "metadata": {},
   "outputs": [
    {
     "data": {
      "text/plain": [
       "[]"
      ]
     },
     "execution_count": 51,
     "metadata": {},
     "output_type": "execute_result"
    },
    {
     "data": {
      "image/png": "[encoded data removed]",
      "text/plain": [
       "<Figure size 432x288 with 1 Axes>"
      ]
     },
     "metadata": {
      "needs_background": "light"
     },
     "output_type": "display_data"
    }
   ],
   "source": [
    "import seaborn as sns\n",
    "sns.lineplot(x='Id',y='Actual values',data=Results.head(10))\n",
    "sns.lineplot(x='Id',y='Predicted',data=Results.head(10))\n",
    "plt.plot()"
   ]
  }
 ],
 "metadata": {
  "kernelspec": {
   "display_name": "Python 3",
   "language": "python",
   "name": "python3"
  },
  "language_info": {
   "codemirror_mode": {
    "name": "ipython",
    "version": 3
   },
   "file_extension": ".py",
   "mimetype": "text/x-python",
   "name": "python",
   "nbconvert_exporter": "python",
   "pygments_lexer": "ipython3",
   "version": "3.6.9"
  }
 },
 "nbformat": 4,
 "nbformat_minor": 4
}
