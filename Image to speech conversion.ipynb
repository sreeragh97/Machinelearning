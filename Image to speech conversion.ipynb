{
 "cells": [
  {
   "cell_type": "markdown",
   "metadata": {},
   "source": [
    "# Conversion of an image to speech\n"
   ]
  },
  {
   "cell_type": "markdown",
   "metadata": {},
   "source": [
    "The input images consists of texts in different languages!!\n",
    "First the text is extracted from the image using tesseract(OCR) and it is translated into English language using google trans.Then the translated word is changed to speech"
   ]
  },
  {
   "cell_type": "code",
   "execution_count": 2,
   "metadata": {},
   "outputs": [],
   "source": [
    "import pytesseract    #for ocr\n",
    "from googletrans import Translator  #for translation to eng\n",
    "import pyttsx3  #for speech\n",
    "import cv2"
   ]
  },
  {
   "cell_type": "code",
   "execution_count": 43,
   "metadata": {},
   "outputs": [],
   "source": [
    "#reading the image\n",
    "image = cv2.imread('/home/student/Downloads/new12/14.jpg')"
   ]
  },
  {
   "cell_type": "code",
   "execution_count": 44,
   "metadata": {},
   "outputs": [],
   "source": [
    "# Image Resizing\n",
    "#percent by which the image is resized\n",
    "scale_percent = 50\n",
    "\n",
    "#calculate the 50 percent of original dimensions\n",
    "width = int(image.shape[1] * scale_percent / 100)\n",
    "height = int(image.shape[0] * scale_percent / 100)\n",
    "\n",
    "# dsize\n",
    "dsize = (width, height)\n",
    "\n",
    "# resize image\n",
    "output = cv2.resize(image, dsize)\n",
    "\n",
    "cv2.imshow('image',output) \n",
    "cv2.waitKey(6000)\n",
    "cv2.destroyAllWindows()"
   ]
  },
  {
   "cell_type": "code",
   "execution_count": 45,
   "metadata": {},
   "outputs": [],
   "source": [
    "#converting to grayscale to make extraction easier\n",
    "grey = cv2.cvtColor(image,cv2.COLOR_BGR2GRAY)"
   ]
  },
  {
   "cell_type": "code",
   "execution_count": 46,
   "metadata": {},
   "outputs": [
    {
     "name": "stdout",
     "output_type": "stream",
     "text": [
      "Pirhilleitung —¥§\n",
      "Saugleitung —\n",
      "Druckleitung <——Il\n",
      "- Enfleerungsleitg. Ill\n",
      "\n",
      "Luftleitung — rey\n"
     ]
    }
   ],
   "source": [
    "result = pytesseract.image_to_string(grey)\n",
    "print(result)"
   ]
  },
  {
   "cell_type": "code",
   "execution_count": 47,
   "metadata": {},
   "outputs": [
    {
     "name": "stdout",
     "output_type": "stream",
     "text": [
      "Translated(src=de, dest=en, text=Pirhilleitung - ¥ §\n",
      "Suction line -\n",
      "Pressure line <—— Il\n",
      "- Enfleerungsleitg. Ill\n",
      "\n",
      "Air line - rey, pronunciation=[[]], extra_data=\"{'translat...\")\n"
     ]
    }
   ],
   "source": [
    "p = Translator()            \n",
    "k = p.translate(result,dest='english')       \n",
    "print(k)"
   ]
  },
  {
   "cell_type": "code",
   "execution_count": 37,
   "metadata": {},
   "outputs": [],
   "source": [
    "engine = pyttsx3.init()"
   ]
  },
  {
   "cell_type": "code",
   "execution_count": 38,
   "metadata": {},
   "outputs": [],
   "source": [
    "# an audio will be played which speaks the test if pyttsx3 recognizes it\n",
    "engine.say(k)                              \n",
    "engine.runAndWait() "
   ]
  }
 ],
 "metadata": {
  "kernelspec": {
   "display_name": "Python 3",
   "language": "python",
   "name": "python3"
  },
  "language_info": {
   "codemirror_mode": {
    "name": "ipython",
    "version": 3
   },
   "file_extension": ".py",
   "mimetype": "text/x-python",
   "name": "python",
   "nbconvert_exporter": "python",
   "pygments_lexer": "ipython3",
   "version": "3.6.9"
  }
 },
 "nbformat": 4,
 "nbformat_minor": 4
}
